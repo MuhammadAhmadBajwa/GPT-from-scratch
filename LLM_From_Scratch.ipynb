{
  "nbformat": 4,
  "nbformat_minor": 0,
  "metadata": {
    "colab": {
      "provenance": [],
      "gpuType": "V28"
    },
    "kernelspec": {
      "name": "python3",
      "display_name": "Python 3"
    },
    "language_info": {
      "name": "python"
    },
    "accelerator": "TPU"
  },
  "cells": [
    {
      "cell_type": "markdown",
      "source": [
        "# Data Preprocessing and Encoding\n",
        "\n"
      ],
      "metadata": {
        "id": "0i1-QL6qvomJ"
      }
    },
    {
      "cell_type": "code",
      "execution_count": null,
      "metadata": {
        "colab": {
          "base_uri": "https://localhost:8080/"
        },
        "id": "K9kqCsMNt8LG",
        "outputId": "a1ec350a-45d2-4bea-b953-0ad58d448920"
      },
      "outputs": [
        {
          "output_type": "stream",
          "name": "stdout",
          "text": [
            "--2024-12-01 10:39:20--  https://raw.githubusercontent.com/karpathy/char-rnn/master/data/tinyshakespeare/input.txt\n",
            "Resolving raw.githubusercontent.com (raw.githubusercontent.com)... 185.199.109.133, 185.199.110.133, 185.199.108.133, ...\n",
            "Connecting to raw.githubusercontent.com (raw.githubusercontent.com)|185.199.109.133|:443... connected.\n",
            "HTTP request sent, awaiting response... 200 OK\n",
            "Length: 1115394 (1.1M) [text/plain]\n",
            "Saving to: ‘input.txt’\n",
            "\n",
            "input.txt           100%[===================>]   1.06M  --.-KB/s    in 0.04s   \n",
            "\n",
            "2024-12-01 10:39:20 (25.3 MB/s) - ‘input.txt’ saved [1115394/1115394]\n",
            "\n"
          ]
        }
      ],
      "source": [
        "### Download dataset\n",
        "!wget https://raw.githubusercontent.com/karpathy/char-rnn/master/data/tinyshakespeare/input.txt"
      ]
    },
    {
      "cell_type": "code",
      "source": [
        "### Read Dataset\n",
        "with open('input.txt','r',encoding='utf-8') as f:\n",
        "  text = f.read()\n",
        "\n",
        "print(\"Total number of characters : \",len(text))\n",
        "print(text[:400])"
      ],
      "metadata": {
        "colab": {
          "base_uri": "https://localhost:8080/"
        },
        "id": "UoxE_yIcv9ss",
        "outputId": "43eebf43-63ae-4f3e-c380-7256e8926e03"
      },
      "execution_count": null,
      "outputs": [
        {
          "output_type": "stream",
          "name": "stdout",
          "text": [
            "Total number of characters :  1115394\n",
            "First Citizen:\n",
            "Before we proceed any further, hear me speak.\n",
            "\n",
            "All:\n",
            "Speak, speak.\n",
            "\n",
            "First Citizen:\n",
            "You are all resolved rather to die than to famish?\n",
            "\n",
            "All:\n",
            "Resolved. resolved.\n",
            "\n",
            "First Citizen:\n",
            "First, you know Caius Marcius is chief enemy to the people.\n",
            "\n",
            "All:\n",
            "We know't, we know't.\n",
            "\n",
            "First Citizen:\n",
            "Let us kill him, and we'll have corn at our own price.\n",
            "Is't a verdict?\n",
            "\n",
            "All:\n",
            "No more talking on't; let it \n"
          ]
        }
      ]
    },
    {
      "cell_type": "code",
      "source": [
        "### Tokenize the input\n",
        "#####################################################\n",
        "# Tiktoken : OpenAI GPT Tokenizer\n",
        "# Trained using BytePair Encoding (BPE)\n",
        "#####################################################\n",
        "!pip install -q tiktoken\n",
        "import tiktoken\n",
        "tokenizer = tiktoken.get_encoding(\"gpt2\")\n",
        "tokenized_text = tokenizer.encode(text)\n",
        "print(\"Total number of tokens : \",len(tokenized_text))\n",
        "print(\"Vocab Size : \",tokenizer.n_vocab)"
      ],
      "metadata": {
        "colab": {
          "base_uri": "https://localhost:8080/"
        },
        "id": "NUrQrkwmwbXO",
        "outputId": "1781a313-abc7-4806-90a5-8bd9598645e8"
      },
      "execution_count": null,
      "outputs": [
        {
          "output_type": "stream",
          "name": "stdout",
          "text": [
            "\u001b[?25l   \u001b[90m━━━━━━━━━━━━━━━━━━━━━━━━━━━━━━━━━━━━━━━━\u001b[0m \u001b[32m0.0/1.2 MB\u001b[0m \u001b[31m?\u001b[0m eta \u001b[36m-:--:--\u001b[0m\r\u001b[2K   \u001b[91m━━━━━━━━━━\u001b[0m\u001b[90m╺\u001b[0m\u001b[90m━━━━━━━━━━━━━━━━━━━━━━━━━━━━━\u001b[0m \u001b[32m0.3/1.2 MB\u001b[0m \u001b[31m9.1 MB/s\u001b[0m eta \u001b[36m0:00:01\u001b[0m\r\u001b[2K   \u001b[91m━━━━━━━━━━━━━━━━━━━━━━━━━━━━━━━━━━━━━━━\u001b[0m\u001b[91m╸\u001b[0m \u001b[32m1.2/1.2 MB\u001b[0m \u001b[31m22.7 MB/s\u001b[0m eta \u001b[36m0:00:01\u001b[0m\r\u001b[2K   \u001b[90m━━━━━━━━━━━━━━━━━━━━━━━━━━━━━━━━━━━━━━━━\u001b[0m \u001b[32m1.2/1.2 MB\u001b[0m \u001b[31m15.8 MB/s\u001b[0m eta \u001b[36m0:00:00\u001b[0m\n",
            "\u001b[?25hTotal number of tokens :  338025\n",
            "Vocab Size :  50257\n"
          ]
        }
      ]
    },
    {
      "cell_type": "markdown",
      "source": [
        "# Data Preparation"
      ],
      "metadata": {
        "id": "cJy9yudk22Kp"
      }
    },
    {
      "cell_type": "code",
      "source": [
        "### Prepare Dataset\n",
        "import torch\n",
        "from torch.utils.data import Dataset,DataLoader\n",
        "###########################################################################################\n",
        "# PyTorch provides two data primitives: torch.utils.data.DataLoader and torch.utils.data.\n",
        "# Dataset that allow you to use pre-loaded datasets as well as your own data. Dataset stores\n",
        "# the samples and their corresponding labels, and DataLoader wraps an iterable around the\n",
        "# Dataset to enable easy access to the samples.   (FROM PYTORCH Documentation)\n",
        "# Actual reason of using dataset and dataloader is to standarize and modularize dataset\n",
        "# preparation and loading steps\n",
        "##########################################################################################\n",
        "class myDataset(Dataset):\n",
        "  def __init__(self,text,tokenizer,context_length,stride):\n",
        "     self.input = []\n",
        "     self.target = []\n",
        "     tokens = tokenizer.encode(text)\n",
        "     for i in range(0,len(tokens)-context_length,stride):\n",
        "       input_sequence = tokens[i:i+context_length]\n",
        "       target_sequence = tokens[i+1:i+context_length+1]\n",
        "       self.input.append(input_sequence)\n",
        "       self.target.append(target_sequence)\n",
        "\n",
        "  def __len__(self):\n",
        "    return len(self.input)\n",
        "  def __getitem__(self,idx):\n",
        "    return torch.tensor(self.input[idx]),torch.tensor(self.target[idx])\n",
        "\n",
        "#########################################################################################################\n",
        "# drop_last (bool, optional)  : set to True to drop the last incomplete batch, if the dataset size\n",
        "# is not divisible by the batch size. If False and the size of dataset is not divisible by the batch\n",
        "# size, then the last batch will be smaller. (default: False)\n",
        "##########################################################################################################\n",
        "def create_dataloader(text,tokenizer,context_length,stride,batch_size):\n",
        "  if stride == 0 or stride > context_length:\n",
        "     stride = context_length\n",
        "  dataset = myDataset(text,tokenizer,context_length,stride)\n",
        "  dataloader = DataLoader(dataset,batch_size=batch_size,shuffle=True,drop_last=True)\n",
        "  return dataloader\n"
      ],
      "metadata": {
        "id": "2Q1RVVkow7Ml"
      },
      "execution_count": null,
      "outputs": []
    },
    {
      "cell_type": "markdown",
      "source": [
        "* Set stride equal to context length to get minimum steps per epoch during training\n",
        "\n",
        "* But it is better to have two different input and target pair have some overlapping tokens. So for that set stride lesser than context length\n"
      ],
      "metadata": {
        "id": "cHEwIvyC8biR"
      }
    },
    {
      "cell_type": "code",
      "source": [
        "dataloader = create_dataloader(text,tokenizer,context_length=256,stride=100,batch_size=64)\n",
        "\n",
        "# Get Single Batch from Dataset\n",
        "data_iter = iter(dataloader)\n",
        "x,y = next(data_iter)\n",
        "print(x.shape)\n",
        "print(y.shape)\n",
        "\n",
        "total_steps_per_epoch = len(dataloader)\n",
        "print(\"Total number of steps per epoch : \",total_steps_per_epoch)"
      ],
      "metadata": {
        "colab": {
          "base_uri": "https://localhost:8080/"
        },
        "id": "CbUgX8_H2ych",
        "outputId": "96a93010-66d7-448c-9490-1ee95d06fa7a"
      },
      "execution_count": null,
      "outputs": [
        {
          "output_type": "stream",
          "name": "stdout",
          "text": [
            "torch.Size([64, 256])\n",
            "torch.Size([64, 256])\n",
            "Total number of steps per epoch :  52\n"
          ]
        }
      ]
    },
    {
      "cell_type": "markdown",
      "source": [
        "* Small batch sizes require less memory during training but lead to more noisy model updates. Just like in regular deep learning, the batch size is a tradeoff and a hyperparameter to experiment with when training LLMs.\n",
        "\n",
        "* So to keep larger batch size in less memory we do a trick inspired from Andrej Karpathy Code where gradient of all steps is accumulated but not updated until you reach the batch size"
      ],
      "metadata": {
        "id": "BcJHPr-t5JWI"
      }
    },
    {
      "cell_type": "markdown",
      "source": [
        "# Embeddings\n",
        "\n",
        "* In transformer we add Positional Encoding with the Input Embedding and then feed the result vectors into Tranformer layers\n",
        "\n",
        "* Again Iam taking help from pytroch. So pytorch already have embedding layer module\n",
        "\n",
        "* Embeddings weights Dimension = vocab_size * d\n",
        "\n",
        "* d is usually set between 786 to 2048 in LLM. Larger the language model , larger will be d"
      ],
      "metadata": {
        "id": "iCMO8NhA-fvb"
      }
    },
    {
      "cell_type": "code",
      "source": [
        "### Token Embeddings\n",
        "d = 1024\n",
        "embedding_layer = torch.nn.Embedding(tokenizer.n_vocab,d)\n",
        "token_embeddings = embedding_layer(x)\n",
        "print(token_embeddings.shape)"
      ],
      "metadata": {
        "colab": {
          "base_uri": "https://localhost:8080/"
        },
        "id": "_iWczqOdWGGG",
        "outputId": "a0d85826-0245-4516-a5e7-40dfbbf9a387"
      },
      "execution_count": null,
      "outputs": [
        {
          "output_type": "stream",
          "name": "stdout",
          "text": [
            "torch.Size([64, 256, 1024])\n"
          ]
        }
      ]
    },
    {
      "cell_type": "markdown",
      "source": [
        "There are two types of positional embeddings\n",
        "\n",
        "\n",
        "*   Simple positional embedding (Used here)\n",
        "*   Rotatory positional embedding (RoPE)\n",
        "\n",
        "Rotary Position Embedding, or RoPE, is a type of position embedding which encodes absolute positional information with rotation matrix and naturally incorporates explicit relative position dependency in self-attention formulation. Notably, RoPE comes with valuable properties such as flexibility of being expand to any sequence lengths, decaying inter-token dependency with increasing relative distances, and capability of equipping the linear self-attention with relative position encoding.  (RoFormer: Enhanced Transformer with Rotary Position Embedding by\n",
        "Jianlin Su, Yu Lu, Shengfeng Pan, Ahmed Murtadha, Bo Wen, Yunfeng Liu)\n",
        "\n",
        "* Actually The advantage of using RoPE is that you can pre-train model on a large dataset using smaller context length to save the computational resources and make the training faster and later on you can increase the context length of your model to what ever length you want and then perform few steps of training to adapt the model according to the increased context length\n",
        "\n",
        "* Pytroch also have module implemented for Rotatory Positional Embeddings, most of the work is done so we can simply use the module"
      ],
      "metadata": {
        "id": "tVsg2CpTXQg1"
      }
    },
    {
      "cell_type": "code",
      "source": [
        "context_length = 256\n",
        "### Positional Embeddings\n",
        "import torch.nn as nn\n",
        "import math\n",
        "class PositionalEncoding(nn.Module):\n",
        "    def __init__(self, d_model, max_seq_length):\n",
        "        super(PositionalEncoding, self).__init__()\n",
        "\n",
        "        pe = torch.zeros(max_seq_length, d_model)\n",
        "        position = torch.arange(0, max_seq_length, dtype=torch.float).unsqueeze(1)\n",
        "        div_term = torch.exp(torch.arange(0, d_model, 2).float() * -(math.log(10000.0) / d_model))\n",
        "\n",
        "        pe[:, 0::2] = torch.sin(position * div_term)\n",
        "        pe[:, 1::2] = torch.cos(position * div_term)\n",
        "\n",
        "        self.register_buffer('pe', pe.unsqueeze(0))\n",
        "\n",
        "    def forward(self, x):\n",
        "        return x + self.pe[:, :x.size(1)]\n",
        "\n",
        "  # This code is taken from https://www.datacamp.com/tutorial/building-a-transformer-with-py-torch\n",
        "pos_emb = PositionalEncoding(d,  context_length)     # d = 1024 , context_length = 256"
      ],
      "metadata": {
        "id": "wVSmptk9Wj-B"
      },
      "execution_count": null,
      "outputs": []
    },
    {
      "cell_type": "code",
      "source": [
        "### Final Input Embedding = Token Emeddning +  Positional Embeddnigs\n",
        "input_embeddings = pos_emb.forward(token_embeddings)\n",
        "print(input_embeddings.shape)"
      ],
      "metadata": {
        "colab": {
          "base_uri": "https://localhost:8080/"
        },
        "id": "aEb97hTzWs7y",
        "outputId": "d17b5db2-9042-4094-c3c1-8a5b59e562c0"
      },
      "execution_count": null,
      "outputs": [
        {
          "output_type": "stream",
          "name": "stdout",
          "text": [
            "torch.Size([64, 256, 1024])\n"
          ]
        }
      ]
    },
    {
      "cell_type": "markdown",
      "source": [
        "Here Above we see that when we add token embedding(64,100,1024) and positional embeddings(100,1024) we get (64,100,1024)\n",
        "\n",
        "So here the positional embeddings of size (100,1024) is added to all 64 matrices of size (100,1024)  in token embeddings\n",
        "\n",
        "Learn more about pytorch broadcasting : https://pytorch.org/docs/stable/notes/broadcasting.html"
      ],
      "metadata": {
        "id": "wEhDxi8Uaz60"
      }
    },
    {
      "cell_type": "markdown",
      "source": [
        "\n",
        "\n",
        "---\n",
        "\n"
      ],
      "metadata": {
        "id": "m8lutc1qb1hR"
      }
    },
    {
      "cell_type": "markdown",
      "source": [
        "If you are interested in using rotaryPositionalEmbeddings then you can check pytorch implementation of it here https://pytorch.org/torchtune/stable/generated/torchtune.modules.RotaryPositionalEmbeddings.html.\n",
        "\n",
        " Right now I am not using it in my model because I completely do not know how rotaryPositionalEmbeddings works. But its cool  how it can increase the context length of your model upto million\n",
        "\n",
        "\n",
        "\n",
        "---\n",
        "\n"
      ],
      "metadata": {
        "id": "tGmY1_yxcR3l"
      }
    },
    {
      "cell_type": "markdown",
      "source": [
        "**So here is the visual representation of what we have done so far**\n",
        "![image.png](data:image/png;base64,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)"
      ],
      "metadata": {
        "id": "yk8TD2PXekPY"
      }
    },
    {
      "cell_type": "markdown",
      "source": [
        "**Now its time to code the model architecture including the attention mechanism**"
      ],
      "metadata": {
        "id": "Lk3Ip0Gdfe1Y"
      }
    },
    {
      "cell_type": "markdown",
      "source": [
        "# Self-Attention Mechanism"
      ],
      "metadata": {
        "id": "_0mqoQWPf7d8"
      }
    },
    {
      "cell_type": "markdown",
      "source": [
        "**Basic intuiation of self-attention**\n",
        "\n",
        "\n",
        "* We need a  vector that take care of the context of each word according to other words in the input\n",
        "* A simple way that comes to mind is that we can take dot product of each token's input_embedding with all other input_embedding (as you remember until now we have embeddings of input tokens) so dot product of embeddings of two words or tokens give us the similarity between them\n",
        "* So when we get dot product of each inputs with all input embeddings we will get a  vector of size equal to input size or specifically context length. Normalize this vector which I call as similarity vector\n",
        "* Now we can simply take the weighted sum of inputs embedding using this normalized similarity vector\n",
        "\n"
      ],
      "metadata": {
        "id": "u0VEQkI-h0Xx"
      }
    },
    {
      "cell_type": "code",
      "source": [
        "input_embed = input_embeddings[:5]\n",
        "input_embed.shape"
      ],
      "metadata": {
        "id": "vwZlggX6fogM",
        "colab": {
          "base_uri": "https://localhost:8080/"
        },
        "outputId": "883bd34c-f04d-40b7-ba73-b4e281c2fcfe"
      },
      "execution_count": null,
      "outputs": [
        {
          "output_type": "execute_result",
          "data": {
            "text/plain": [
              "torch.Size([5, 256, 1024])"
            ]
          },
          "metadata": {},
          "execution_count": 9
        }
      ]
    },
    {
      "cell_type": "code",
      "source": [
        "a = torch.randn(5, 10)\n",
        "b = a.clone().detach()\n",
        "\n",
        "a = a.T\n",
        "b = torch.transpose(b,0,1)\n",
        "\n",
        "a.shape, b.shape"
      ],
      "metadata": {
        "colab": {
          "base_uri": "https://localhost:8080/"
        },
        "id": "gxwHIL-T8zHT",
        "outputId": "8b92273c-5d54-482b-b3c0-ae65dfe96705"
      },
      "execution_count": null,
      "outputs": [
        {
          "output_type": "execute_result",
          "data": {
            "text/plain": [
              "(torch.Size([10, 5]), torch.Size([10, 5]))"
            ]
          },
          "metadata": {},
          "execution_count": 10
        }
      ]
    },
    {
      "cell_type": "code",
      "source": [
        "normalized_similarity_vector = torch.softmax(torch.matmul(input_embed,torch.transpose(input_embed,1,2)), dim=-1)\n",
        "normalized_similarity_vector.shape"
      ],
      "metadata": {
        "colab": {
          "base_uri": "https://localhost:8080/"
        },
        "id": "SVyYnuy_8IEM",
        "outputId": "a859e8ea-236b-4a36-f5bc-89a8cc7c0aba"
      },
      "execution_count": null,
      "outputs": [
        {
          "output_type": "execute_result",
          "data": {
            "text/plain": [
              "torch.Size([5, 256, 256])"
            ]
          },
          "metadata": {},
          "execution_count": 11
        }
      ]
    },
    {
      "cell_type": "code",
      "source": [
        "context_vector = torch.matmul(normalized_similarity_vector, input_embed)\n",
        "context_vector.shape"
      ],
      "metadata": {
        "colab": {
          "base_uri": "https://localhost:8080/"
        },
        "id": "nVj2qFJM8to8",
        "outputId": "90a8dc9b-e613-452d-827c-f8d02d2bb900"
      },
      "execution_count": null,
      "outputs": [
        {
          "output_type": "execute_result",
          "data": {
            "text/plain": [
              "torch.Size([5, 256, 1024])"
            ]
          },
          "metadata": {},
          "execution_count": 12
        }
      ]
    },
    {
      "cell_type": "code",
      "source": [
        "# If I implement above code usign key , query , value notation so key\n",
        "# Finding context vector for 1st input vector with respect to all inputs\n",
        "\n",
        "query1 = input_embed[0][0]       # input_emebed[0] act as query\n",
        "keys = input_embed[0]           # keys are the input_embedding of all inputs\n",
        "values = input_embed[0]         # values are alsoo input_embedding\n",
        "\n",
        "attention_score1 = torch.matmul(query1,torch.transpose(keys,0,1))                  # attention score is similarity vector\n",
        "attention_weight1 = torch.softmax(attention_score1, dim=-1)                       # attention weight is normalized similarity vector\n",
        "context_vector1 = torch.matmul(attention_weight1, values)                         # context vector is weighted sum\n",
        "print(context_vector1.shape)\n",
        "# Here I have got context_vector for first input\n",
        "# check if this context vector for second input is same as above calculated\n",
        "torch.equal(context_vector1,context_vector[0][0])"
      ],
      "metadata": {
        "colab": {
          "base_uri": "https://localhost:8080/"
        },
        "id": "GzNlk7fS--Ip",
        "outputId": "121540a4-9850-456d-9361-69bd9986bc78"
      },
      "execution_count": null,
      "outputs": [
        {
          "output_type": "stream",
          "name": "stdout",
          "text": [
            "torch.Size([1024])\n"
          ]
        },
        {
          "output_type": "execute_result",
          "data": {
            "text/plain": [
              "True"
            ]
          },
          "metadata": {},
          "execution_count": 13
        }
      ]
    },
    {
      "cell_type": "markdown",
      "source": [
        "So as we can see above input emebeddings vector act as query, keys and values what if we set query , key ,value trainable weights for each input and get 3 different vectors (Q,K,V) Query , Key , Value by mutliplying input_embedding with weights Wq , Wk , Wv"
      ],
      "metadata": {
        "id": "848vbA2DIfmi"
      }
    },
    {
      "cell_type": "markdown",
      "source": [
        "**Simple Attention**\n",
        "![image.png](data:image/png;base64,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)"
      ],
      "metadata": {
        "id": "3NnJexbghZ3V"
      }
    },
    {
      "cell_type": "markdown",
      "source": [
        "**As we can see above in the figure , to get context vector or scaled Dot-Product Attention vector  we first mutliply query with key then scale down the values by dividing with square root of attention vectors dimension and then apply softmax to normalize and finally matrix multiply it with values vector to get the attention vector or context vector**"
      ],
      "metadata": {
        "id": "uueEqgEJaYNh"
      }
    },
    {
      "cell_type": "code",
      "source": [
        "embed_size = input_embed.shape[-1]\n",
        "attn_size = 512\n",
        "Wq = torch.nn.Parameter(torch.rand(embed_size, attn_size))\n",
        "Wk = torch.nn.Parameter(torch.rand(embed_size, attn_size))\n",
        "Wv = torch.nn.Parameter(torch.rand(embed_size, attn_size))"
      ],
      "metadata": {
        "id": "wk4KpzayGcO6"
      },
      "execution_count": null,
      "outputs": []
    },
    {
      "cell_type": "code",
      "source": [
        "# Lets get query , key , value vectors for first input embedding\n",
        "query1 = input_embed[0][0] @ Wq\n",
        "key1 = input_embed[0][0] @ Wk\n",
        "value1 = input_embed[0][0] @ Wv"
      ],
      "metadata": {
        "id": "7un0dtSVGas4"
      },
      "execution_count": null,
      "outputs": []
    },
    {
      "cell_type": "code",
      "source": [
        "# Calculate context vector for first input embedding\n",
        "keys = input_embed[0] @ Wk\n",
        "values = input_embed[0] @ Wv\n",
        "query1.shape , keys.shape , values.shape"
      ],
      "metadata": {
        "colab": {
          "base_uri": "https://localhost:8080/"
        },
        "id": "GWyueYIMZYIW",
        "outputId": "40f1959b-5fb0-41e6-b3d6-e6e61e1d352d"
      },
      "execution_count": null,
      "outputs": [
        {
          "output_type": "execute_result",
          "data": {
            "text/plain": [
              "(torch.Size([512]), torch.Size([256, 512]), torch.Size([256, 512]))"
            ]
          },
          "metadata": {},
          "execution_count": 16
        }
      ]
    },
    {
      "cell_type": "code",
      "source": [
        "attention_score1 = torch.matmul(query1,torch.transpose(keys,0,1))\n",
        "d = keys.shape[-1]\n",
        "attention_weight1 = torch.softmax(attention_score1/d**0.5, dim=-1)\n",
        "context_vector1 = torch.matmul(attention_weight1, values)\n",
        "context_vector1.shape"
      ],
      "metadata": {
        "colab": {
          "base_uri": "https://localhost:8080/"
        },
        "id": "RO7Tz4vGdfEb",
        "outputId": "8517e4e2-2a15-41c3-e6d7-35089470a04e"
      },
      "execution_count": null,
      "outputs": [
        {
          "output_type": "execute_result",
          "data": {
            "text/plain": [
              "torch.Size([512])"
            ]
          },
          "metadata": {},
          "execution_count": 17
        }
      ]
    },
    {
      "cell_type": "code",
      "source": [
        "# Generalize for all input embeddings\n",
        "queries = input_embed @ Wq\n",
        "keys = input_embed @ Wk\n",
        "values = input_embed @ Wv\n",
        "queries.shape , keys.shape , values.shape"
      ],
      "metadata": {
        "colab": {
          "base_uri": "https://localhost:8080/"
        },
        "id": "drfmTRBlfp22",
        "outputId": "a6930f35-8d06-4737-f0ff-2179b40a166f"
      },
      "execution_count": null,
      "outputs": [
        {
          "output_type": "execute_result",
          "data": {
            "text/plain": [
              "(torch.Size([5, 256, 512]),\n",
              " torch.Size([5, 256, 512]),\n",
              " torch.Size([5, 256, 512]))"
            ]
          },
          "metadata": {},
          "execution_count": 18
        }
      ]
    },
    {
      "cell_type": "code",
      "source": [
        "attn_scores = torch.matmul(queries, torch.transpose(keys, 1, 2))\n",
        "print(attn_scores.shape)\n",
        "d = keys.shape[-1]\n",
        "attn_weights = torch.softmax(attn_scores/d**0.5, dim=-1)\n",
        "print(attn_weights.shape)\n",
        "attn_vector = torch.matmul(attn_weights, values)\n",
        "print(attn_vector.shape)"
      ],
      "metadata": {
        "colab": {
          "base_uri": "https://localhost:8080/"
        },
        "id": "45c5M_2ueVhX",
        "outputId": "50a6c501-ba4b-47b8-db9a-0bf384734041"
      },
      "execution_count": null,
      "outputs": [
        {
          "output_type": "stream",
          "name": "stdout",
          "text": [
            "torch.Size([5, 256, 256])\n",
            "torch.Size([5, 256, 256])\n",
            "torch.Size([5, 256, 512])\n"
          ]
        }
      ]
    },
    {
      "cell_type": "code",
      "source": [
        "print(f\"Input (Embeddings) Dimensions = {input_embed.shape}\")\n",
        "print(f\"Query Dimensions = {queries.shape}\")\n",
        "print(f\"Key Dimensions = {keys.shape}\")\n",
        "print(f\"Value Dimensions = {values.shape}\")\n",
        "print(f\"Output (Attention Vector) Dimensions = {attn_vector.shape}\")"
      ],
      "metadata": {
        "colab": {
          "base_uri": "https://localhost:8080/"
        },
        "id": "l878IQeJhPOo",
        "outputId": "03901786-1f8a-4d89-a31b-2ceb05a7462b"
      },
      "execution_count": null,
      "outputs": [
        {
          "output_type": "stream",
          "name": "stdout",
          "text": [
            "Input (Embeddings) Dimensions = torch.Size([5, 256, 1024])\n",
            "Query Dimensions = torch.Size([5, 256, 512])\n",
            "Key Dimensions = torch.Size([5, 256, 512])\n",
            "Value Dimensions = torch.Size([5, 256, 512])\n",
            "Output (Attention Vector) Dimensions = torch.Size([5, 256, 512])\n"
          ]
        }
      ]
    },
    {
      "cell_type": "markdown",
      "source": [
        "One thing to observe is that the dimensions can also be reduced using attention machanism"
      ],
      "metadata": {
        "id": "2EenqcNUhxC_"
      }
    },
    {
      "cell_type": "markdown",
      "source": [
        "**Mask Future Tokens**"
      ],
      "metadata": {
        "id": "fIpvbv4S6wdx"
      }
    },
    {
      "cell_type": "code",
      "source": [
        "x = torch.rand(3,3)\n",
        "x"
      ],
      "metadata": {
        "colab": {
          "base_uri": "https://localhost:8080/"
        },
        "id": "kfQGfdb04xwH",
        "outputId": "c50c194b-b7ce-4038-9704-0c27d85ab67e"
      },
      "execution_count": null,
      "outputs": [
        {
          "output_type": "execute_result",
          "data": {
            "text/plain": [
              "tensor([[0.6875, 0.0521, 0.1430],\n",
              "        [0.8251, 0.3322, 0.6468],\n",
              "        [0.9722, 0.0599, 0.1128]])"
            ]
          },
          "metadata": {},
          "execution_count": 21
        }
      ]
    },
    {
      "cell_type": "code",
      "source": [
        "mask = torch.triu(torch.ones(3,3),diagonal=1)\n",
        "mask"
      ],
      "metadata": {
        "colab": {
          "base_uri": "https://localhost:8080/"
        },
        "id": "BC3p26LX3GpF",
        "outputId": "3f8b9cde-1092-4560-e619-ca2e27b508b8"
      },
      "execution_count": null,
      "outputs": [
        {
          "output_type": "execute_result",
          "data": {
            "text/plain": [
              "tensor([[0., 1., 1.],\n",
              "        [0., 0., 1.],\n",
              "        [0., 0., 0.]])"
            ]
          },
          "metadata": {},
          "execution_count": 22
        }
      ]
    },
    {
      "cell_type": "code",
      "source": [
        "max_seq_length = 3\n",
        "mask_bool = mask.bool()[:max_seq_length,:max_seq_length]\n",
        "mask_bool"
      ],
      "metadata": {
        "colab": {
          "base_uri": "https://localhost:8080/"
        },
        "id": "AQlhCNUE3Mnf",
        "outputId": "3e75d469-0129-49c7-8725-4ce76dd64112"
      },
      "execution_count": null,
      "outputs": [
        {
          "output_type": "execute_result",
          "data": {
            "text/plain": [
              "tensor([[False,  True,  True],\n",
              "        [False, False,  True],\n",
              "        [False, False, False]])"
            ]
          },
          "metadata": {},
          "execution_count": 23
        }
      ]
    },
    {
      "cell_type": "code",
      "source": [
        "x.masked_fill_(mask_bool,-torch.inf)"
      ],
      "metadata": {
        "colab": {
          "base_uri": "https://localhost:8080/"
        },
        "id": "FPvXvHiT5tdp",
        "outputId": "b3d5fb91-5841-4d08-c9a6-e7fc0bed5f17"
      },
      "execution_count": null,
      "outputs": [
        {
          "output_type": "execute_result",
          "data": {
            "text/plain": [
              "tensor([[0.6875,   -inf,   -inf],\n",
              "        [0.8251, 0.3322,   -inf],\n",
              "        [0.9722, 0.0599, 0.1128]])"
            ]
          },
          "metadata": {},
          "execution_count": 24
        }
      ]
    },
    {
      "cell_type": "code",
      "source": [
        "print(x)"
      ],
      "metadata": {
        "colab": {
          "base_uri": "https://localhost:8080/"
        },
        "id": "D_9iyh-RTG2e",
        "outputId": "bb9ba341-e3ab-418d-af9c-0435a3b23ef8"
      },
      "execution_count": null,
      "outputs": [
        {
          "output_type": "stream",
          "name": "stdout",
          "text": [
            "tensor([[0.6875,   -inf,   -inf],\n",
            "        [0.8251, 0.3322,   -inf],\n",
            "        [0.9722, 0.0599, 0.1128]])\n"
          ]
        }
      ]
    },
    {
      "cell_type": "markdown",
      "source": [
        "Next Step is **Multi-Head Attention**"
      ],
      "metadata": {
        "id": "DctW2StB7DdG"
      }
    },
    {
      "cell_type": "markdown",
      "source": [
        "Divide the embedding dimensions into n_head\n",
        "If we have input embedding dimensions (Batch , Context_lenght , Embedding_Dimensions)\n",
        "\n",
        "Divide Embedding_Dimensions into let suppose n_head = 4\n",
        "\n",
        "So if we have inupt of dimensions (5 , 100, 1024) and 1024//4 = 256\n",
        "\n",
        "We now have   4 heads with dimensions (5,100,256)\n",
        "\n",
        "4 heads will run parallely and at end concatenate the 4 heads out to get original 1024 embedding\n",
        "\n",
        "And finally pass it through Embeddings_Dimensions * Embedding_Dimensions layer\n",
        "\n",
        "\n"
      ],
      "metadata": {
        "id": "loYaz3Ekznwr"
      }
    },
    {
      "cell_type": "code",
      "source": [
        "embed_size = input_embed.shape[2]\n",
        "n_heads = 4\n",
        "din = embed_size\n",
        "dout = embed_size\n",
        "head_dim = dout//n_heads\n",
        "Wk = nn.Linear(din, dout,bias=False)\n",
        "Wv = nn.Linear(din, dout,bias=False)\n",
        "Wq = nn.Linear(din, dout,bias=False)\n",
        "mask = torch.triu(torch.ones(context_length,context_length),diagonal=1)\n",
        "\n",
        "print(\"Emebd_size = \",embed_size)\n",
        "print(\"Keys Weights = \",Wk.weight.shape)\n",
        "print(\"Values Weights = \",Wv.weight.shape)\n",
        "print(\"Queries Weights = \",Wq.weight.shape)\n",
        "print(\"input_embeds = \",input_embed.shape)\n",
        "print(\"Mask = \",mask.shape)"
      ],
      "metadata": {
        "id": "4PA50_oQhnOM",
        "colab": {
          "base_uri": "https://localhost:8080/"
        },
        "outputId": "29028956-bdbd-409d-9a57-3aa5df44553c"
      },
      "execution_count": null,
      "outputs": [
        {
          "output_type": "stream",
          "name": "stdout",
          "text": [
            "Emebd_size =  1024\n",
            "Keys Weights =  torch.Size([1024, 1024])\n",
            "Values Weights =  torch.Size([1024, 1024])\n",
            "Queries Weights =  torch.Size([1024, 1024])\n",
            "input_embeds =  torch.Size([5, 256, 1024])\n",
            "Mask =  torch.Size([256, 256])\n"
          ]
        }
      ]
    },
    {
      "cell_type": "code",
      "source": [
        "keys = Wk(input_embed)    # Batch , Context_Length , Emebedding_Dimensions\n",
        "values = Wv(input_embed)  # Batch , Context_Length , Emebedding_Dimensions\n",
        "queries = Wq(input_embed) # Batch , Context_Length , Emebedding_Dimensions\n",
        "keys.shape , values.shape , queries.shape"
      ],
      "metadata": {
        "colab": {
          "base_uri": "https://localhost:8080/"
        },
        "id": "BtaDrgb26qKW",
        "outputId": "d53af0d8-d915-49a7-9f22-def64d81292b"
      },
      "execution_count": null,
      "outputs": [
        {
          "output_type": "execute_result",
          "data": {
            "text/plain": [
              "(torch.Size([5, 256, 1024]),\n",
              " torch.Size([5, 256, 1024]),\n",
              " torch.Size([5, 256, 1024]))"
            ]
          },
          "metadata": {},
          "execution_count": 27
        }
      ]
    },
    {
      "cell_type": "code",
      "source": [
        "Batch , Context_Len , Embed_Dim = keys.shape\n",
        "keys = keys.view(Batch,Context_Len,n_heads,head_dim)       # Batch , Context_Length , num_heads , Head Dimensions\n",
        "values = values.view(Batch,Context_Len,n_heads,head_dim)   # Batch , Context_Length , num_heads , Head Dimensions\n",
        "queries = queries.view(Batch,Context_Len,n_heads,head_dim) # Batch , Context_Length , num_heads , Head Dimensions\n",
        "print(\"Keys = \",keys.shape)\n",
        "print(\"Values = \",values.shape)\n",
        "print(\"Queries = \",queries.shape)"
      ],
      "metadata": {
        "colab": {
          "base_uri": "https://localhost:8080/"
        },
        "id": "8W6P_Jll8Tr1",
        "outputId": "070212f0-3d47-4628-ce8a-1237043b3a02"
      },
      "execution_count": null,
      "outputs": [
        {
          "output_type": "stream",
          "name": "stdout",
          "text": [
            "Keys =  torch.Size([5, 256, 4, 256])\n",
            "Values =  torch.Size([5, 256, 4, 256])\n",
            "Queries =  torch.Size([5, 256, 4, 256])\n"
          ]
        }
      ]
    },
    {
      "cell_type": "code",
      "source": [
        "keys = keys.transpose(1,2)\n",
        "values = values.transpose(1,2)\n",
        "queries = queries.transpose(1,2)\n",
        "print(\"Keys = \",keys.shape)\n",
        "print(\"Values = \",values.shape)\n",
        "print(\"Queries = \",queries.shape)"
      ],
      "metadata": {
        "colab": {
          "base_uri": "https://localhost:8080/"
        },
        "id": "DP8TeBUXJZAC",
        "outputId": "30e00744-a07b-4294-ad39-89c1927c43f8"
      },
      "execution_count": null,
      "outputs": [
        {
          "output_type": "stream",
          "name": "stdout",
          "text": [
            "Keys =  torch.Size([5, 4, 256, 256])\n",
            "Values =  torch.Size([5, 4, 256, 256])\n",
            "Queries =  torch.Size([5, 4, 256, 256])\n"
          ]
        }
      ]
    },
    {
      "cell_type": "markdown",
      "source": [
        "Here we have 5 parallel batches , 4 parallel heads each containing matrix of 100 * 256"
      ],
      "metadata": {
        "id": "voD8YQojK80S"
      }
    },
    {
      "cell_type": "code",
      "source": [
        "attn_scores = queries @ keys.transpose(-1,-2)    # queries = 5, 4, 100 , 256  @ keys = 5,4,256,100\n",
        "attn_scores.shape"
      ],
      "metadata": {
        "colab": {
          "base_uri": "https://localhost:8080/"
        },
        "id": "eLHlGB8qK49N",
        "outputId": "6ed239c4-8857-45c2-d67b-fbf197498e83"
      },
      "execution_count": null,
      "outputs": [
        {
          "output_type": "execute_result",
          "data": {
            "text/plain": [
              "torch.Size([5, 4, 256, 256])"
            ]
          },
          "metadata": {},
          "execution_count": 30
        }
      ]
    },
    {
      "cell_type": "markdown",
      "source": [
        "Matrix A = 100 , 256\n",
        "\n",
        "Martix B =       256 , 100\n",
        "\n",
        "Matrix C  = Matrix A * Matrix B  (100,100)\n",
        "\n",
        "Here 5 , 4 remains same for both Matrix A and Matrix B where 5 is batch size and 4 is heads size"
      ],
      "metadata": {
        "id": "KklYKX6RLzKo"
      }
    },
    {
      "cell_type": "code",
      "source": [
        "max_seq_len = context_length\n",
        "mask_bool = mask.bool()[:max_seq_len,:max_seq_len]\n",
        "attn_scores = attn_scores.masked_fill_(mask_bool, -torch.inf)\n",
        "attn_scores.shape"
      ],
      "metadata": {
        "colab": {
          "base_uri": "https://localhost:8080/"
        },
        "id": "EXXMN4-zLjuS",
        "outputId": "2c67bada-d60e-4783-b070-405cc04bede1"
      },
      "execution_count": null,
      "outputs": [
        {
          "output_type": "execute_result",
          "data": {
            "text/plain": [
              "torch.Size([5, 4, 256, 256])"
            ]
          },
          "metadata": {},
          "execution_count": 31
        }
      ]
    },
    {
      "cell_type": "code",
      "source": [
        "attn_weights = torch.softmax(\n",
        "     attn_scores / keys.shape[-1]**0.5, dim=-1)"
      ],
      "metadata": {
        "id": "e5PJQoSLUHy3"
      },
      "execution_count": null,
      "outputs": []
    },
    {
      "cell_type": "code",
      "source": [
        "context_vec = (attn_weights @ values).transpose(1, 2)"
      ],
      "metadata": {
        "id": "E7I_AKvOUKV5"
      },
      "execution_count": null,
      "outputs": []
    },
    {
      "cell_type": "code",
      "source": [
        "context_vec = context_vec.contiguous().view(\n",
        " input_embed.shape)\n"
      ],
      "metadata": {
        "id": "VKDjbAw-UNyL"
      },
      "execution_count": null,
      "outputs": []
    },
    {
      "cell_type": "code",
      "source": [
        "out_projection = nn.Linear(embed_size, embed_size)\n"
      ],
      "metadata": {
        "id": "pnSygsEVODw5"
      },
      "execution_count": null,
      "outputs": []
    },
    {
      "cell_type": "code",
      "source": [
        "context_vec = out_projection(context_vec)"
      ],
      "metadata": {
        "id": "YqkvMy0DUkvK"
      },
      "execution_count": null,
      "outputs": []
    },
    {
      "cell_type": "code",
      "source": [
        "print(context_vec.shape)"
      ],
      "metadata": {
        "colab": {
          "base_uri": "https://localhost:8080/"
        },
        "id": "WjB4Zh6qUlP9",
        "outputId": "02b4961f-e0ac-4d55-8308-59a9051cc493"
      },
      "execution_count": null,
      "outputs": [
        {
          "output_type": "stream",
          "name": "stdout",
          "text": [
            "torch.Size([5, 256, 1024])\n"
          ]
        }
      ]
    },
    {
      "cell_type": "markdown",
      "source": [
        "Lets structure the code into a class"
      ],
      "metadata": {
        "id": "OLsNc5WhuAkl"
      }
    },
    {
      "cell_type": "code",
      "source": [
        "import torch\n",
        "import torch.nn as nn\n",
        "class MultiHeadAttention(nn.Module):\n",
        "  def __init__(self,din,dout,context_length,n_heads):\n",
        "    super().__init__()\n",
        "    assert dout % n_heads == 0, \"d_out must be divisible by n_heads\"\n",
        "    self.n_heads = n_heads\n",
        "    self.head_dim = dout // n_heads\n",
        "    self.Wk = nn.Linear(din, dout,bias=False)\n",
        "    self.Wv = nn.Linear(din, dout,bias=False)\n",
        "    self.Wq = nn.Linear(din, dout,bias=False)\n",
        "    self.out_projection = nn.Linear(dout, dout)\n",
        "    self.register_buffer('mask',torch.triu(torch.ones(context_length,context_length),diagonal=1))\n",
        "\n",
        "  def forward(self,input_embed):\n",
        "    self.keys = self.Wk(input_embed)\n",
        "    self.values = self.Wv(input_embed)\n",
        "    self.queries = self.Wq(input_embed)\n",
        "\n",
        "    batch , max_seq_len , embed_dim = input_embed.shape\n",
        "    self.keys = self.keys.view(batch,max_seq_len,self.n_heads,self.head_dim)\n",
        "    self.values = self.values.view(batch,max_seq_len,self.n_heads,self.head_dim)\n",
        "    self.queries = self.queries.view(batch,max_seq_len,self.n_heads,self.head_dim)\n",
        "\n",
        "    self.keys = self.keys.transpose(1,2)\n",
        "    self.values = self.values.transpose(1,2)\n",
        "    self.queries = self.queries.transpose(1,2)\n",
        "\n",
        "    attn_scores = self.queries @ self.keys.transpose(-1,-2)\n",
        "    bool_mask = self.mask.bool()[:max_seq_len,:max_seq_len]\n",
        "    attn_scores.masked_fill_(bool_mask, -torch.inf)\n",
        "    attn_weights = torch.softmax(\n",
        "     attn_scores / self.keys.shape[-1]**0.5, dim=-1)\n",
        "    context_vec = (attn_weights @ self.values).transpose(1, 2)\n",
        "    context_vec = context_vec.reshape(batch, max_seq_len, self.dout)\n",
        "    context_vec = self.out_projection(context_vec)\n",
        "\n",
        "    return context_vec\n"
      ],
      "metadata": {
        "id": "SuKqEe0TUtlM"
      },
      "execution_count": null,
      "outputs": []
    },
    {
      "cell_type": "markdown",
      "source": [
        "# Layer Normalization"
      ],
      "metadata": {
        "id": "Uvq00b6y-Xaw"
      }
    },
    {
      "cell_type": "markdown",
      "source": [
        "**Why and where we do Layer Normalization ?**\n",
        "\n",
        "When we have a deep neural network with many layers it will have problem of vanishnig gradient or exploding gradient. So that is why we can apply normalization\n",
        "\n",
        "Again what is vanishing gradient and exploding gradient so as we know while training there are a lot of matrix multiplications of floating point numbers\n",
        "and these numbers could of random range and values , it is possible that some numbers became so large or became so small so we dont want that if the numbers became so small then it is vanishing gradient problem and if the number gets too large then it is exploding gradient problem.So in order to solve this problem we apply normalization means get the numberes in range of 0 to 1\n"
      ],
      "metadata": {
        "id": "4HsOMqBe_hr3"
      }
    },
    {
      "cell_type": "code",
      "source": [
        "# let suppose we have a weight row with values 1.23, 4.34, 0.001 , 23.34\n",
        "weight_row = [1.23,4.34,0.0001,23.24]\n",
        "\n",
        "# Simplest way to normalize is to take sum of the weight matrix row and divide each element of that row with the sum\n",
        "sum = sum(i for i in weight_row)\n",
        "normalized_weight_row = [i/sum for i in weight_row]\n",
        "print(normalized_weight_row)   # output = [0.04269336100881288, 0.15064161526686823, 3.471004960066088e-06, 0.8066615527193588]\n",
        "\n",
        "# here we got all the numbers between range of 0 to 1 here we have solved the problem of exploding gradient by scaling down the large values\n",
        "# but the small values got smaller and it will cause vanishing gradient problem so we need some other normailzation technique\n",
        "\n"
      ],
      "metadata": {
        "colab": {
          "base_uri": "https://localhost:8080/"
        },
        "id": "WD6aMw9M-W8u",
        "outputId": "60dd8f5c-7da2-402e-d14d-eba3fbdfc269"
      },
      "execution_count": null,
      "outputs": [
        {
          "output_type": "stream",
          "name": "stdout",
          "text": [
            "[0.04269336100881288, 0.15064161526686823, 3.471004960066088e-06, 0.8066615527193588]\n"
          ]
        }
      ]
    },
    {
      "cell_type": "markdown",
      "source": [
        "If you want to get into detail of layer normalization used here you can refer to these papers\n",
        "[Batch Normalization](https://arxiv.org/abs/1502.03167) ,\n",
        "[Layer Normalization](https://arxiv.org/abs/1607.06450)\n"
      ],
      "metadata": {
        "id": "oixKkjecqp82"
      }
    },
    {
      "cell_type": "code",
      "source": [
        "# apply layer normalization before multihead attention and feed foward network\n",
        "norm = torch.nn.LayerNorm(input_embed.shape)\n",
        "x = norm(input_embed)\n",
        "print(input_embed.shape,x.shape)"
      ],
      "metadata": {
        "colab": {
          "base_uri": "https://localhost:8080/"
        },
        "id": "17nbC8XArSql",
        "outputId": "967a96c1-ee26-498c-d455-46a9d190446e"
      },
      "execution_count": null,
      "outputs": [
        {
          "output_type": "stream",
          "name": "stdout",
          "text": [
            "torch.Size([5, 256, 1024]) torch.Size([5, 256, 1024])\n"
          ]
        }
      ]
    },
    {
      "cell_type": "markdown",
      "source": [
        "### Feed Forward"
      ],
      "metadata": {
        "id": "-PslHLxLqlku"
      }
    },
    {
      "cell_type": "code",
      "source": [
        "class GELU(nn.Module):\n",
        "  def __init__(self):\n",
        "    super().__init__()\n",
        "  def forward(self, x):\n",
        "    return 0.5 * x * (1 + torch.tanh(torch.sqrt(torch.tensor(2.0 / torch.pi)) * (x + 0.044715 * torch.pow(x, 3))))\n",
        "\n",
        "class FeedForward(nn.Module):\n",
        "  def __init__(self, config):\n",
        "      super().__init__()\n",
        "      self.layers = nn.Sequential(\n",
        "      nn.Linear(config[\"emb_dim\"], 4 * config[\"emb_dim\"]),\n",
        "      GELU(),\n",
        "      nn.Linear(4 * config[\"emb_dim\"], config[\"emb_dim\"]),\n",
        "      )\n",
        "  def forward(self, x):\n",
        "    return self.layers(x)"
      ],
      "metadata": {
        "id": "ul9126-WxPnT"
      },
      "execution_count": null,
      "outputs": []
    },
    {
      "cell_type": "markdown",
      "source": [
        "# Decoder Block\n",
        "\n",
        "![image.png](data:image/png;base64,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)"
      ],
      "metadata": {
        "id": "zVgBbLyC0hU3"
      }
    },
    {
      "cell_type": "markdown",
      "source": [
        "**In decoder block first we have layernorm1 then multihead attention then drop then residual addition (shortcut connection) then layernorm2 , feed forward network , dropout and at last again a shortcut connection. Maybe I'll add an image of the architecture if I found one**"
      ],
      "metadata": {
        "id": "rvZyEnY60oPA"
      }
    },
    {
      "cell_type": "code",
      "source": [
        "class Decoder(nn.Module):\n",
        "  def __init__(self,config):\n",
        "    super().__init__()\n",
        "    self.attention = MultiHeadAttention(\n",
        "        din = config['embedding_dim'],\n",
        "        dout = config['embedding_dim'],\n",
        "        context_length = config['context_length'],\n",
        "        n_heads = config['n_heads'] )\n",
        "    self.forward = FeedForward(config)\n",
        "    self.layernorm1 = nn.LayerNorm(config['embedding_dim'])\n",
        "    self.layernorm2 = nn.LayerNorm(config['embedding_dim'])\n",
        "    self.dropout = nn.Dropout(config['dropout'])\n",
        "\n",
        "  def forward(self,x):\n",
        "     resdiual_connection = x\n",
        "     x = self.layernorm1(x)\n",
        "     x = self.attention(x)\n",
        "     x = self.dropout(x)\n",
        "     x = x + resdiual_connection\n",
        "\n",
        "     resdiual_connection = x\n",
        "     x = self.layernorm2(x)\n",
        "     x = self.forward(x)\n",
        "     x = self.dropout(x)\n",
        "     x = x + resdiual_connection\n",
        "     return x\n"
      ],
      "metadata": {
        "id": "Ay8-8wYK1P_Z"
      },
      "execution_count": null,
      "outputs": []
    },
    {
      "cell_type": "markdown",
      "source": [
        "**Now lets connect the building blocks to create a final SLM Class**"
      ],
      "metadata": {
        "id": "gHOCrahr99Lp"
      }
    },
    {
      "cell_type": "code",
      "source": [
        "class SLM(nn.Module):\n",
        "  def __init__(self,config):\n",
        "    super().__init__()\n",
        "    self.embedding = nn.Embedding(config['vocab_size'],config['embedding_dim'])\n",
        "    self.position_embedding = PositionalEncoding(config['embedding_dim'],config['context_length'])\n",
        "    self.emebedding_dropout = nn.Dropout(config['dropout'])\n",
        "    self.decoder_blocks =  nn.Sequential(*[Decoder(config) for _ in range(config['n_layers'])])\n",
        "    self.final_layernorm = nn.LayerNorm(config['embedding_dim'])\n",
        "    self.output_layer = nn.Linear(config['embedding_dim'],config['vocab_size'],bias=False)\n",
        "\n",
        "  def forward(self,x):\n",
        "    x = self.embedding(x)\n",
        "    x = self.position_embedding(x)\n",
        "    x = self.emebedding_dropout(x)\n",
        "\n",
        "    x = self.decoder_blocks(x)\n",
        "    x = self.final_layernorm(x)\n",
        "\n",
        "    logits = self.output_layer(x)\n",
        "    return logits\n"
      ],
      "metadata": {
        "id": "_lxHsAnStEQL"
      },
      "execution_count": null,
      "outputs": []
    },
    {
      "cell_type": "markdown",
      "source": [
        "# Text Generation"
      ],
      "metadata": {
        "id": "MWaiOS53AlBv"
      }
    },
    {
      "cell_type": "code",
      "source": [
        "@torch.no_grad()\n",
        "def generate(self, idx, max_new_tokens, temperature=1.0, top_k=None):\n",
        "        \"\"\"\n",
        "        Take a conditioning sequence of indices idx (LongTensor of shape (b,t)) and complete\n",
        "        the sequence max_new_tokens times, feeding the predictions back into the model each time.\n",
        "        Most likely you'll want to make sure to be in model.eval() mode of operation for this.\n",
        "        \"\"\"\n",
        "        for _ in range(max_new_tokens):\n",
        "            # if the sequence context is growing too long we must crop it at block_size\n",
        "            idx_cond = idx if idx.size(1) <= self.config.block_size else idx[:, -self.config.block_size:]\n",
        "            # forward the model to get the logits for the index in the sequence\n",
        "            logits, _ = self(idx_cond)\n",
        "            # pluck the logits at the final step and scale by desired temperature\n",
        "            logits = logits[:, -1, :] / temperature\n",
        "            # optionally crop the logits to only the top k options\n",
        "            if top_k is not None:\n",
        "                v, _ = torch.topk(logits, min(top_k, logits.size(-1)))\n",
        "                logits[logits < v[:, [-1]]] = -float('Inf')\n",
        "            # apply softmax to convert logits to (normalized) probabilities\n",
        "            probs = F.softmax(logits, dim=-1)\n",
        "            # sample from the distribution\n",
        "            idx_next = torch.multinomial(probs, num_samples=1)\n",
        "            # append sampled index to the running sequence and continue\n",
        "            idx = torch.cat((idx, idx_next), dim=1)\n",
        "\n",
        "        return idx\n",
        "\n",
        "# This function code is taken from Andrej Karpathy Github https://github.com/karpathy/nanoGPT/blob/master/model.py"
      ],
      "metadata": {
        "id": "EsS5OBljAjhf"
      },
      "execution_count": null,
      "outputs": []
    },
    {
      "cell_type": "code",
      "source": [
        "# A modified version of above function\n",
        "def generate(model, idx, max_new_tokens, context_size, temperature=0.0, top_k=None, eos_id=None):\n",
        "\n",
        "    # For-loop is the same as before: Get logits, and only focus on last time step\n",
        "    for _ in range(max_new_tokens):\n",
        "        idx_cond = idx[:, -context_size:]\n",
        "        with torch.no_grad():\n",
        "            logits = model(idx_cond)\n",
        "        logits = logits[:, -1, :]\n",
        "\n",
        "        # New: Filter logits with top_k sampling\n",
        "        if top_k is not None:\n",
        "            # Keep only top_k values\n",
        "            top_logits, _ = torch.topk(logits, top_k)\n",
        "            min_val = top_logits[:, -1]\n",
        "            logits = torch.where(logits < min_val, torch.tensor(float(\"-inf\")).to(logits.device), logits)\n",
        "\n",
        "        # New: Apply temperature scaling\n",
        "        if temperature > 0.0:\n",
        "            logits = logits / temperature\n",
        "\n",
        "            # Apply softmax to get probabilities\n",
        "            probs = torch.softmax(logits, dim=-1)  # (batch_size, context_len)\n",
        "\n",
        "            # Sample from the distribution\n",
        "            idx_next = torch.multinomial(probs, num_samples=1)  # (batch_size, 1)\n",
        "\n",
        "        # Otherwise same as before: get idx of the vocab entry with the highest logits value\n",
        "        else:\n",
        "            idx_next = torch.argmax(logits, dim=-1, keepdim=True)  # (batch_size, 1)\n",
        "\n",
        "        if idx_next == eos_id:  # Stop generating early if end-of-sequence token is encountered and eos_id is specified\n",
        "            break\n",
        "\n",
        "        # Same as before: append sampled index to the running sequence\n",
        "        idx = torch.cat((idx, idx_next), dim=1)  # (batch_size, num_tokens+1)\n",
        "\n",
        "    return idx"
      ],
      "metadata": {
        "id": "Dv-R_qpoumOi"
      },
      "execution_count": null,
      "outputs": []
    },
    {
      "cell_type": "markdown",
      "source": [
        "# Complete Pre-training Code"
      ],
      "metadata": {
        "id": "2IY_R30ovFnO"
      }
    },
    {
      "cell_type": "code",
      "source": [],
      "metadata": {
        "id": "XkhwuiytupgL"
      },
      "execution_count": null,
      "outputs": []
    },
    {
      "cell_type": "code",
      "source": [
        "import torch\n"
      ],
      "metadata": {
        "colab": {
          "base_uri": "https://localhost:8080/"
        },
        "id": "T_Q5n0qv9lyC",
        "outputId": "e0d6a991-a5fc-412f-864d-3e3f94ec54f3"
      },
      "execution_count": null,
      "outputs": [
        {
          "output_type": "stream",
          "name": "stdout",
          "text": [
            "Device = cuda\n"
          ]
        }
      ]
    },
    {
      "cell_type": "code",
      "source": [],
      "metadata": {
        "id": "Lz4xhlMJ9wOL"
      },
      "execution_count": null,
      "outputs": []
    },
    {
      "cell_type": "code",
      "source": [
        "!pip -q install tiktoken\n",
        "!pip -q install torch\n",
        "!pip -q install triton"
      ],
      "metadata": {
        "colab": {
          "base_uri": "https://localhost:8080/"
        },
        "id": "bQCeDoKivuJR",
        "outputId": "4ef68b59-5cc8-4f04-a770-b574dadf07c3"
      },
      "execution_count": null,
      "outputs": [
        {
          "output_type": "stream",
          "name": "stdout",
          "text": [
            "\u001b[2K   \u001b[90m━━━━━━━━━━━━━━━━━━━━━━━━━━━━━━━━━━━━━━━━\u001b[0m \u001b[32m209.5/209.5 MB\u001b[0m \u001b[31m6.3 MB/s\u001b[0m eta \u001b[36m0:00:00\u001b[0m\n",
            "\u001b[?25h"
          ]
        }
      ]
    },
    {
      "cell_type": "code",
      "source": [
        "# Copyright (c) Sebastian Raschka under Apache License 2.0 (see LICENSE.txt).\n",
        "# Source for \"Build a Large Language Model From Scratch\"\n",
        "#   - https://www.manning.com/books/build-a-large-language-model-from-scratch\n",
        "# Code: https://github.com/rasbt/LLMs-from-scratch\n",
        "\n",
        "import time\n",
        "import tiktoken\n",
        "import torch\n",
        "import torch.nn as nn\n",
        "from torch.utils.data import Dataset , DataLoader\n",
        "import math\n",
        "import matplotlib.pyplot as plt\n",
        "import os\n",
        "import urllib.request\n",
        "\n",
        "tpu_flag = False\n",
        "try:\n",
        "  import torch_xla\n",
        "  import torch_xla.core.xla_model as xm\n",
        "  import torch_xla.distributed.parallel_loader as pl\n",
        "  import torch_xla.utils.serialization as xser\n",
        "except ModuleNotFoundError:\n",
        "  pass\n",
        "else:\n",
        "  tpu_flag = True\n",
        "  print(\"TPU detected\")\n",
        "  print(f\"TPU Devices Available : {torch_xla.device_count()}\")\n",
        "\n",
        "class GPTDatasetV1(Dataset):\n",
        "    def __init__(self, txt, tokenizer, max_length, stride):\n",
        "        self.input_ids = []\n",
        "        self.target_ids = []\n",
        "\n",
        "        # Tokenize the entire text\n",
        "        token_ids = tokenizer.encode(txt, allowed_special={\"<|endoftext|>\"})\n",
        "\n",
        "        # Use a sliding window to chunk the book into overlapping sequences of max_length\n",
        "        for i in range(0, len(token_ids) - max_length, stride):\n",
        "            input_chunk = token_ids[i:i + max_length]\n",
        "            target_chunk = token_ids[i + 1: i + max_length + 1]\n",
        "            self.input_ids.append(torch.tensor(input_chunk))\n",
        "            self.target_ids.append(torch.tensor(target_chunk))\n",
        "\n",
        "    def __len__(self):\n",
        "        return len(self.input_ids)\n",
        "\n",
        "    def __getitem__(self, idx):\n",
        "        return self.input_ids[idx], self.target_ids[idx]\n",
        "\n",
        "\n",
        "def create_dataloader_v1(txt, batch_size=4, max_length=256,\n",
        "                         stride=128, shuffle=True, drop_last=True, num_workers=0):\n",
        "    # Initialize the tokenizer\n",
        "    tokenizer = tiktoken.get_encoding(\"gpt2\")\n",
        "\n",
        "    # Create dataset\n",
        "    dataset = GPTDatasetV1(txt, tokenizer, max_length, stride)\n",
        "\n",
        "    # Create dataloader\n",
        "    dataloader = DataLoader(\n",
        "        dataset, batch_size=batch_size, shuffle=shuffle, drop_last=drop_last, num_workers=num_workers)\n",
        "\n",
        "    return dataloader\n",
        "\n",
        "\n",
        "class MultiHeadAttention(nn.Module):\n",
        "    def __init__(self, d_in, d_out, context_length, dropout, num_heads, qkv_bias=False):\n",
        "        super().__init__()\n",
        "        assert d_out % num_heads == 0, \"d_out must be divisible by n_heads\"\n",
        "\n",
        "        self.d_out = d_out\n",
        "        self.num_heads = num_heads\n",
        "        self.head_dim = d_out // num_heads  # Reduce the projection dim to match desired output dim\n",
        "\n",
        "        self.W_query = nn.Linear(d_in, d_out, bias=qkv_bias)\n",
        "        self.W_key = nn.Linear(d_in, d_out, bias=qkv_bias)\n",
        "        self.W_value = nn.Linear(d_in, d_out, bias=qkv_bias)\n",
        "        self.out_proj = nn.Linear(d_out, d_out)  # Linear layer to combine head outputs\n",
        "        self.dropout = nn.Dropout(dropout)\n",
        "        self.register_buffer('mask', torch.triu(torch.ones(context_length, context_length), diagonal=1))\n",
        "\n",
        "    def forward(self, x):\n",
        "        b, num_tokens, d_in = x.shape\n",
        "\n",
        "        keys = self.W_key(x)  # Shape: (b, num_tokens, d_out)\n",
        "        queries = self.W_query(x)\n",
        "        values = self.W_value(x)\n",
        "\n",
        "        # We implicitly split the matrix by adding a `num_heads` dimension\n",
        "        # Unroll last dim: (b, num_tokens, d_out) -> (b, num_tokens, num_heads, head_dim)\n",
        "        keys = keys.view(b, num_tokens, self.num_heads, self.head_dim)\n",
        "        values = values.view(b, num_tokens, self.num_heads, self.head_dim)\n",
        "        queries = queries.view(b, num_tokens, self.num_heads, self.head_dim)\n",
        "\n",
        "        # Transpose: (b, num_tokens, num_heads, head_dim) -> (b, num_heads, num_tokens, head_dim)\n",
        "        keys = keys.transpose(1, 2)\n",
        "        queries = queries.transpose(1, 2)\n",
        "        values = values.transpose(1, 2)\n",
        "\n",
        "        # Compute scaled dot-product attention (aka self-attention) with a causal mask\n",
        "        attn_scores = queries @ keys.transpose(2, 3)  # Dot product for each head\n",
        "\n",
        "        # Original mask truncated to the number of tokens and converted to boolean\n",
        "        mask_bool = self.mask.bool()[:num_tokens, :num_tokens]\n",
        "\n",
        "        # Use the mask to fill attention scores\n",
        "        attn_scores.masked_fill_(mask_bool, -torch.inf)\n",
        "\n",
        "        attn_weights = torch.softmax(attn_scores / keys.shape[-1]**0.5, dim=-1)\n",
        "        attn_weights = self.dropout(attn_weights)\n",
        "\n",
        "        # Shape: (b, num_tokens, num_heads, head_dim)\n",
        "        context_vec = (attn_weights @ values).transpose(1, 2)\n",
        "\n",
        "        # Combine heads, where self.d_out = self.num_heads * self.head_dim\n",
        "        context_vec = context_vec.reshape(b, num_tokens, self.d_out)\n",
        "        context_vec = self.out_proj(context_vec)  # optional projection\n",
        "\n",
        "        return context_vec\n",
        "\n",
        "\n",
        "class LayerNorm(nn.Module):\n",
        "    def __init__(self, emb_dim):\n",
        "        super().__init__()\n",
        "        self.eps = 1e-5\n",
        "        self.scale = nn.Parameter(torch.ones(emb_dim))\n",
        "        self.shift = nn.Parameter(torch.zeros(emb_dim))\n",
        "\n",
        "    def forward(self, x):\n",
        "        mean = x.mean(dim=-1, keepdim=True)\n",
        "        var = x.var(dim=-1, keepdim=True, unbiased=False)\n",
        "        norm_x = (x - mean) / torch.sqrt(var + self.eps)\n",
        "        return self.scale * norm_x + self.shift\n",
        "\n",
        "\n",
        "class GELU(nn.Module):\n",
        "    def __init__(self):\n",
        "        super().__init__()\n",
        "\n",
        "    def forward(self, x):\n",
        "        return 0.5 * x * (1 + torch.tanh(\n",
        "            torch.sqrt(torch.tensor(2.0 / torch.pi)) *\n",
        "            (x + 0.044715 * torch.pow(x, 3))\n",
        "        ))\n",
        "\n",
        "\n",
        "class FeedForward(nn.Module):\n",
        "    def __init__(self, cfg):\n",
        "        super().__init__()\n",
        "        self.layers = nn.Sequential(\n",
        "            nn.Linear(cfg[\"emb_dim\"], 4 * cfg[\"emb_dim\"]),\n",
        "            GELU(),\n",
        "            nn.Linear(4 * cfg[\"emb_dim\"], cfg[\"emb_dim\"]),\n",
        "        )\n",
        "\n",
        "    def forward(self, x):\n",
        "        return self.layers(x)\n",
        "\n",
        "\n",
        "class TransformerBlock(nn.Module):\n",
        "    def __init__(self, cfg):\n",
        "        super().__init__()\n",
        "        self.att = MultiHeadAttention(\n",
        "            d_in=cfg[\"emb_dim\"],\n",
        "            d_out=cfg[\"emb_dim\"],\n",
        "            context_length=cfg[\"context_length\"],\n",
        "            num_heads=cfg[\"n_heads\"],\n",
        "            dropout=cfg[\"drop_rate\"],\n",
        "            qkv_bias=cfg[\"qkv_bias\"])\n",
        "        self.ff = FeedForward(cfg)\n",
        "        self.norm1 = LayerNorm(cfg[\"emb_dim\"])\n",
        "        self.norm2 = LayerNorm(cfg[\"emb_dim\"])\n",
        "        self.drop_shortcut = nn.Dropout(cfg[\"drop_rate\"])\n",
        "\n",
        "    def forward(self, x):\n",
        "        # Shortcut connection for attention block\n",
        "        shortcut = x\n",
        "        x = self.norm1(x)\n",
        "        x = self.att(x)   # Shape [batch_size, num_tokens, emb_size]\n",
        "        x = self.drop_shortcut(x)\n",
        "        x = x + shortcut  # Add the original input back\n",
        "\n",
        "        # Shortcut connection for feed-forward block\n",
        "        shortcut = x\n",
        "        x = self.norm2(x)\n",
        "        x = self.ff(x)\n",
        "        x = self.drop_shortcut(x)\n",
        "        x = x + shortcut  # Add the original input back\n",
        "\n",
        "        return x\n",
        "\n",
        "\n",
        "class GPTModel(nn.Module):\n",
        "    def __init__(self, cfg):\n",
        "        super().__init__()\n",
        "        self.tok_emb = nn.Embedding(cfg[\"vocab_size\"], cfg[\"emb_dim\"])\n",
        "        self.pos_emb = nn.Embedding(cfg[\"context_length\"], cfg[\"emb_dim\"])\n",
        "        self.drop_emb = nn.Dropout(cfg[\"drop_rate\"])\n",
        "\n",
        "        self.trf_blocks = nn.Sequential(\n",
        "            *[TransformerBlock(cfg) for _ in range(cfg[\"n_layers\"])])\n",
        "\n",
        "        self.final_norm = LayerNorm(cfg[\"emb_dim\"])\n",
        "        self.out_head = nn.Linear(cfg[\"emb_dim\"], cfg[\"vocab_size\"], bias=False)\n",
        "\n",
        "    def forward(self, in_idx):\n",
        "        batch_size, seq_len = in_idx.shape\n",
        "        tok_embeds = self.tok_emb(in_idx)\n",
        "        pos_embeds = self.pos_emb(torch.arange(seq_len, device=in_idx.device))\n",
        "        x = tok_embeds + pos_embeds  # Shape [batch_size, num_tokens, emb_size]\n",
        "        x = self.drop_emb(x)\n",
        "        x = self.trf_blocks(x)\n",
        "        x = self.final_norm(x)\n",
        "        logits = self.out_head(x)\n",
        "        return logits\n",
        "\n",
        "\n",
        "def generate_text_simple(model, idx, max_new_tokens, context_size):\n",
        "    # idx is (B, T) array of indices in the current context\n",
        "    for _ in range(max_new_tokens):\n",
        "\n",
        "        # Crop current context if it exceeds the supported context size\n",
        "        # E.g., if LLM supports only 5 tokens, and the context size is 10\n",
        "        # then only the last 5 tokens are used as context\n",
        "        idx_cond = idx[:, -context_size:]\n",
        "\n",
        "        # Get the predictions\n",
        "        with torch.no_grad():\n",
        "            logits = model(idx_cond)\n",
        "\n",
        "        # Focus only on the last time step\n",
        "        # (batch, n_token, vocab_size) becomes (batch, vocab_size)\n",
        "        logits = logits[:, -1, :]\n",
        "\n",
        "        # Get the idx of the vocab entry with the highest logits value\n",
        "        idx_next = torch.argmax(logits, dim=-1, keepdim=True)  # (batch, 1)\n",
        "\n",
        "        # Append sampled index to the running sequence\n",
        "        idx = torch.cat((idx, idx_next), dim=1)  # (batch, n_tokens+1)\n",
        "\n",
        "    return idx\n",
        "\n",
        "def text_to_token_ids(text, tokenizer):\n",
        "    encoded = tokenizer.encode(text)\n",
        "    encoded_tensor = torch.tensor(encoded).unsqueeze(0)  # add batch dimension\n",
        "    return encoded_tensor\n",
        "\n",
        "\n",
        "def token_ids_to_text(token_ids, tokenizer):\n",
        "    flat = token_ids.squeeze(0)  # remove batch dimension\n",
        "    return tokenizer.decode(flat.tolist())\n",
        "\n",
        "\n",
        "def calc_loss_batch(input_batch, target_batch, model, device):\n",
        "    input_batch, target_batch = input_batch.to(device), target_batch.to(device)\n",
        "    logits = model(input_batch)\n",
        "    loss = torch.nn.functional.cross_entropy(logits.view(-1, logits.size(-1)), target_batch.view(-1))\n",
        "    # loss = torch.nn.functional.cross_entropy(logits.flatten(0, 1), target_batch.flatten())\n",
        "    return loss\n",
        "\n",
        "\n",
        "def calc_loss_loader(data_loader, model, device, num_batches=None):\n",
        "    total_loss = 0.\n",
        "    if len(data_loader) == 0:\n",
        "        return float(\"nan\")\n",
        "    elif num_batches is None:\n",
        "        num_batches = len(data_loader)\n",
        "    else:\n",
        "        num_batches = min(num_batches, len(data_loader))\n",
        "    for i, (input_batch, target_batch) in enumerate(data_loader):\n",
        "        if i < num_batches:\n",
        "            loss = calc_loss_batch(input_batch, target_batch, model, device)\n",
        "            total_loss += loss.item()\n",
        "        else:\n",
        "            break\n",
        "    return total_loss / num_batches\n",
        "\n",
        "\n",
        "def evaluate_model(model, train_loader, val_loader, device, eval_iter):\n",
        "    model.eval()\n",
        "    with torch.no_grad():\n",
        "        train_loss = calc_loss_loader(train_loader, model, device, num_batches=eval_iter)\n",
        "        val_loss = calc_loss_loader(val_loader, model, device, num_batches=eval_iter)\n",
        "    model.train()\n",
        "    return train_loss, val_loss\n",
        "\n",
        "\n",
        "def generate_and_print_sample(model, tokenizer, device, start_context):\n",
        "    model.eval()\n",
        "    context_size = model.pos_emb.weight.shape[0]\n",
        "    encoded = text_to_token_ids(start_context, tokenizer).to(device)\n",
        "    with torch.no_grad():\n",
        "        token_ids = generate_text_simple(\n",
        "            model=model, idx=encoded,\n",
        "            max_new_tokens=50, context_size=context_size\n",
        "        )\n",
        "        decoded_text = token_ids_to_text(token_ids, tokenizer)\n",
        "        print(decoded_text.replace(\"\\n\", \" \"))  # Compact print format\n",
        "    model.train()\n",
        "\n",
        "\n",
        "def train_model_simple(model, train_loader, val_loader, optimizer, device, num_epochs,\n",
        "                       eval_freq, eval_iter, start_context, tokenizer):\n",
        "    # Initialize lists to track losses and tokens seen\n",
        "    train_losses, val_losses, track_tokens_seen = [], [], []\n",
        "    tokens_seen = 0\n",
        "    global_step = -1\n",
        "\n",
        "    # Main training loop\n",
        "    peak_lr = optimizer.param_groups[0][\"lr\"]\n",
        "    min_lr = 0.1 * peak_lr\n",
        "    total_training_steps = len(train_loader) * num_epochs\n",
        "    warmup_steps = 0.1 * total_training_steps\n",
        "    print(f\"Total Training Steps  = {total_training_steps}\")\n",
        "    if tpu_flag:\n",
        "      train_loader = pl.MpDeviceLoader(train_loader, device)\n",
        "    for epoch in range(num_epochs):\n",
        "        model.train()  # Set model to training mode\n",
        "        start = time.time()\n",
        "        for input_batch, target_batch in train_loader:\n",
        "            optimizer.zero_grad()  # Reset loss gradients from previous batch iteration\n",
        "            global_step += 1\n",
        "            if global_step < warmup_steps:\n",
        "                lr = peak_lr * (global_step+1)/warmup_steps\n",
        "            else:\n",
        "                progress = ((global_step - warmup_steps) /(total_training_steps - warmup_steps))\n",
        "                lr = min_lr + (peak_lr - min_lr) * 0.5 * (1 + math.cos(math.pi * progress))\n",
        "            loss = calc_loss_batch(input_batch, target_batch, model, device)\n",
        "            loss.backward()  # Calculate loss gradients\n",
        "\n",
        "            if global_step > warmup_steps:\n",
        "                  torch.nn.utils.clip_grad_norm_(model.parameters(), max_norm=1.0)\n",
        "\n",
        "            if tpu_flag:\n",
        "              xm.optimizer_step(optimizer)\n",
        "            else:\n",
        "              optimizer.step()  # Update model weights using loss gradients\n",
        "            tokens_seen += input_batch.numel()\n",
        "\n",
        "\n",
        "            # Optional evaluation step\n",
        "            if global_step % eval_freq == 0:\n",
        "                train_loss, val_loss = evaluate_model(\n",
        "                    model, train_loader, val_loader, device, eval_iter)\n",
        "                train_losses.append(train_loss)\n",
        "                val_losses.append(val_loss)\n",
        "                track_tokens_seen.append(tokens_seen)\n",
        "                # print(f\"Time Taken = {time.time()-start}\")\n",
        "                # start = time.time()\n",
        "                print(f\"Ep {epoch+1} (Step {global_step:06d}): \"\n",
        "                      f\"Train loss {train_loss:.3f}, Val loss {val_loss:.3f}\")\n",
        "\n",
        "\n",
        "        end = time.time()\n",
        "        print(f\"Total Epoch Time : {end-start}\")\n",
        "\n",
        "        # Print a sample text after each epoch\n",
        "        if tpu_flag:\n",
        "          if torch_xla.core.xla_model.is_master_ordinal():\n",
        "              generate_and_print_sample(\n",
        "                  model, tokenizer, device, start_context\n",
        "              )\n",
        "        else:\n",
        "          generate_and_print_sample(\n",
        "              model, tokenizer, device, start_context\n",
        "          )\n",
        "\n",
        "    return train_losses, val_losses, track_tokens_seen\n",
        "\n",
        "\n",
        "def plot_losses(epochs_seen, tokens_seen, train_losses, val_losses):\n",
        "    fig, ax1 = plt.subplots()\n",
        "\n",
        "    # Plot training and validation loss against epochs\n",
        "    ax1.plot(epochs_seen, train_losses, label=\"Training loss\")\n",
        "    ax1.plot(epochs_seen, val_losses, linestyle=\"-.\", label=\"Validation loss\")\n",
        "    ax1.set_xlabel(\"Epochs\")\n",
        "    ax1.set_ylabel(\"Loss\")\n",
        "    ax1.legend(loc=\"upper right\")\n",
        "\n",
        "    # Create a second x-axis for tokens seen\n",
        "    ax2 = ax1.twiny()  # Create a second x-axis that shares the same y-axis\n",
        "    ax2.plot(tokens_seen, train_losses, alpha=0)  # Invisible plot for aligning ticks\n",
        "    ax2.set_xlabel(\"Tokens seen\")\n",
        "\n",
        "    fig.tight_layout()  # Adjust layout to make room\n",
        "    # plt.show()\n",
        "\n",
        "\n",
        "def main(gpt_config, settings):\n",
        "    device = None\n",
        "    if tpu_flag:\n",
        "      xm.set_rng_state(123, device=device)\n",
        "      device = xm.xla_device()\n",
        "    else:\n",
        "       torch.manual_seed(123)\n",
        "       device = torch.device(\"cuda\" if torch.cuda.is_available() else \"cpu\")\n",
        "\n",
        "\n",
        "    ##############################\n",
        "    # Download data if necessary\n",
        "    ##############################\n",
        "\n",
        "    file_path = \"AllCombined.txt\"\n",
        "    # url = \"https://raw.githubusercontent.com/rasbt/LLMs-from-scratch/main/ch02/01_main-chapter-code/the-verdict.txt\"\n",
        "\n",
        "    # if not os.path.exists(file_path):\n",
        "    #     with urllib.request.urlopen(url) as response:\n",
        "    #         text_data = response.read().decode('utf-8')\n",
        "    #     with open(file_path, \"w\", encoding=\"utf-8\") as file:\n",
        "    #         file.write(text_data)\n",
        "    # else:\n",
        "    with open(file_path, \"r\", encoding=\"utf-8\") as file:\n",
        "          data = file.read()\n",
        "    text_data = data[:100000]\n",
        "    ##############################\n",
        "    # Initialize model\n",
        "    ##############################\n",
        "\n",
        "    model = GPTModel(gpt_config)\n",
        "    model.to(device)  # no assignment model = model.to(device) necessary for nn.Module classes\n",
        "    if tpu_flag:\n",
        "      model = torch.compile(model)\n",
        "    else:\n",
        "      model = torch.compile(model)\n",
        "\n",
        "    optimizer = torch.optim.AdamW(\n",
        "        model.parameters(), lr=settings[\"learning_rate\"], weight_decay=settings[\"weight_decay\"]\n",
        "    )\n",
        "\n",
        "    ##############################\n",
        "    # Set up dataloaders\n",
        "    ##############################\n",
        "\n",
        "    # Train/validation ratio\n",
        "    train_ratio = 0.90\n",
        "    split_idx = int(train_ratio * len(text_data))\n",
        "\n",
        "    train_loader = create_dataloader_v1(\n",
        "        text_data[:split_idx],\n",
        "        batch_size=settings[\"batch_size\"],\n",
        "        max_length=gpt_config[\"context_length\"],\n",
        "        stride=gpt_config[\"context_length\"],\n",
        "        drop_last=True,\n",
        "        shuffle=True,\n",
        "        num_workers=0\n",
        "    )\n",
        "\n",
        "    val_loader = create_dataloader_v1(\n",
        "        text_data[split_idx:],\n",
        "        batch_size=settings[\"batch_size\"],\n",
        "        max_length=gpt_config[\"context_length\"],\n",
        "        stride=gpt_config[\"context_length\"],\n",
        "        drop_last=False,\n",
        "        shuffle=False,\n",
        "        num_workers=0\n",
        "    )\n",
        "\n",
        "    ##############################\n",
        "    # Train model\n",
        "    ##############################\n",
        "\n",
        "    tokenizer = tiktoken.get_encoding(\"gpt2\")\n",
        "    start = time.time()\n",
        "    train_losses, val_losses, tokens_seen = train_model_simple(\n",
        "        model, train_loader, val_loader, optimizer, device,\n",
        "        num_epochs=settings[\"num_epochs\"], eval_freq=64, eval_iter=1,\n",
        "        start_context=\"Every effort moves you\", tokenizer=tokenizer\n",
        "    )\n",
        "    end = time.time()\n",
        "    print(f\"Total training time: {end - start:.2f} seconds\")\n",
        "\n",
        "    epochs_tensor = torch.linspace(0, OTHER_SETTINGS[\"num_epochs\"], len(train_losses))\n",
        "    plot_losses(epochs_tensor, tokens_seen, train_losses, val_losses)\n",
        "    plt.savefig(\"loss.pdf\")\n",
        "\n",
        "    # Save and load model\n",
        "    if tpu_flag:\n",
        "      xser.save(model.state_dict(), \"model.pth\")\n",
        "    else:\n",
        "      torch.save(model.state_dict(), \"model.pth\")\n",
        "\n",
        "\n",
        "if __name__ == \"__main__\":\n",
        "\n",
        "    GPT_CONFIG_124M = {\n",
        "        \"vocab_size\": 50264,    # Vocabulary size\n",
        "        \"context_length\": 256,  # Shortened context length (orig: 1024)\n",
        "        \"emb_dim\": 768,         # Embedding dimension\n",
        "        \"n_heads\": 16,          # Number of attention heads\n",
        "        \"n_layers\": 16,         # Number of layers\n",
        "        \"drop_rate\": 0.1,       # Dropout rate\n",
        "        \"qkv_bias\": False       # Query-key-value bias\n",
        "    }\n",
        "\n",
        "    OTHER_SETTINGS = {\n",
        "        \"learning_rate\": 3e-4,\n",
        "        \"num_epochs\": 20,\n",
        "        \"batch_size\": 16,\n",
        "        \"weight_decay\": 0.1\n",
        "    }\n",
        "\n",
        "    ###########################\n",
        "    # Initiate training\n",
        "    ###########################\n",
        "   if tpu_flag:\n",
        "     torch_xla.launch(_mp_fn, args=())\n",
        "   else:\n",
        "     main(GPT_CONFIG_124M, OTHER_SETTINGS)\n"
      ],
      "metadata": {
        "colab": {
          "base_uri": "https://localhost:8080/",
          "height": 1000
        },
        "id": "wCbHF8X2Ecc3",
        "outputId": "169d977a-a8f0-49be-b5a2-f02b3320dd05"
      },
      "execution_count": null,
      "outputs": [
        {
          "output_type": "stream",
          "name": "stdout",
          "text": [
            "Total Training Steps  = 80\n",
            "Ep 1 (Step 000000): Train loss 9.630, Val loss 9.914\n",
            "Total Epoch Time : 6.28584885597229\n",
            "Every effort moves you the the the the the the the the the the the the the the the the the the the the the the the the the the the the the the the the the the the, the, the the the the the, the the the the, the\n",
            "Total Epoch Time : 4.883731126785278\n",
            "Every effort moves you.                                                 \n",
            "Total Epoch Time : 5.004505157470703\n",
            "Every effort moves you.                                                 \n",
            "Total Epoch Time : 4.9475109577178955\n",
            "Every effort moves you.                                                 \n",
            "Total Epoch Time : 5.021944999694824\n",
            "Every effort moves you.                                                 \n",
            "Total Epoch Time : 5.033508539199829\n",
            "Every effort moves you.                                                 \n",
            "Total Epoch Time : 5.0793070793151855\n",
            "Every effort moves you.                                                 \n",
            "Total Epoch Time : 5.114774942398071\n",
            "Every effort moves you. The to the week as. The and the same day of the week as a good, and the week as the week as the same day of the week as the same day of the same day of the same day of the same day of the\n",
            "Total Epoch Time : 5.169605016708374\n",
            "Every effort moves you.                                                 \n",
            "Total Epoch Time : 5.2006916999816895\n",
            "Every effort moves you.            The a is a is a of the same day of the same day of the same day of the same day of the same day of the same day of the same day of the same\n",
            "Total Epoch Time : 5.242454528808594\n",
            "Every effort moves you.                                                 \n",
            "Total Epoch Time : 5.241796016693115\n",
            "Every effort moves you.                                                 \n",
            "Total Epoch Time : 5.2262866497039795\n",
            "Every effort moves you.                                                 \n",
            "Total Epoch Time : 5.182545900344849\n",
            "Every effort moves you, and the week as the week as the same day of the same day of the week as of the week as the same day of the same day of the week as in the same day of the same day of the same day of the same day\n",
            "Total Epoch Time : 5.16170072555542\n",
            "Every effort moves you, the same day of the week as the same day of the same day of the week as the same day of the year, the same day of the week as the same day of the year, and the same day of the same day of the\n",
            "Total Epoch Time : 5.147038221359253\n",
            "Every effort moves you.                                                 \n",
            "Ep 17 (Step 000064): Train loss 3.382, Val loss 6.842\n",
            "Total Epoch Time : 5.851633548736572\n",
            "Every effort moves you and the same day of the week as January of the previous year, and in leap years, and in Australia.           The of the same day of the same day of the same day of the same\n",
            "Total Epoch Time : 5.119109869003296\n",
            "Every effort moves you and the same day of the week as January of the previous year, and in leap years, and in the same day of the same day of the same day of the same day of the same day of the week as February of the same day of\n",
            "Total Epoch Time : 5.143051624298096\n",
            "Every effort moves you has a few that they have a few of the world.                                     In\n",
            "Total Epoch Time : 5.136796236038208\n",
            "Every effort moves you, the same day of the week as January of the previous year, and in leap years, and in Australia.   The apple tree that the week as the week as the same day of the week as the same day of the week as\n",
            "Total training time: 130.52 seconds\n"
          ]
        },
        {
          "output_type": "display_data",
          "data": {
            "text/plain": [
              "<Figure size 640x480 with 2 Axes>"
            ],
            "image/png": "[encoded data removed]"
          },
          "metadata": {}
        }
      ]
    },
    {
      "cell_type": "code",
      "source": [
        "# Copyright (c) Sebastian Raschka under Apache License 2.0 (see LICENSE.txt).\n",
        "# Source for \"Build a Large Language Model From Scratch\"\n",
        "#   - https://www.manning.com/books/build-a-large-language-model-from-scratch\n",
        "# Code: https://github.com/rasbt/LLMs-from-scratch\n",
        "\n",
        "import time\n",
        "import tiktoken\n",
        "import torch\n",
        "import torch.nn as nn\n",
        "from torch.utils.data import Dataset , DataLoader\n",
        "import math\n",
        "import matplotlib.pyplot as plt\n",
        "import os\n",
        "import urllib.request\n",
        "\n",
        "device = torch.device(\"cuda\" if torch.cuda.is_available() else \"cpu\")\n",
        "try:\n",
        "  import torch_xla\n",
        "  import torch_xla.core.xla_model as xm\n",
        "  import torch_xla.distributed.parallel_loader as pl\n",
        "  import torch_xla.distributed.xla_multiprocessing as xmp\n",
        "except ModuleNotFoundError:\n",
        "  print(f\"Device = {device}\")\n",
        "else:\n",
        "  device = xm.xla_device()\n",
        "  print(\"TPU detected\")\n",
        "  print(f\"TPU Devices Available : {torch_xla.device_count()}\")\n",
        "\n",
        "class GPTDatasetV1(Dataset):\n",
        "    def __init__(self, txt, tokenizer, max_length, stride):\n",
        "        self.input_ids = []\n",
        "        self.target_ids = []\n",
        "\n",
        "        # Tokenize the entire text\n",
        "        token_ids = tokenizer.encode(txt, allowed_special={\"<|endoftext|>\"})\n",
        "\n",
        "        # Use a sliding window to chunk the book into overlapping sequences of max_length\n",
        "        for i in range(0, len(token_ids) - max_length, stride):\n",
        "            input_chunk = token_ids[i:i + max_length]\n",
        "            target_chunk = token_ids[i + 1: i + max_length + 1]\n",
        "            self.input_ids.append(torch.tensor(input_chunk))\n",
        "            self.target_ids.append(torch.tensor(target_chunk))\n",
        "\n",
        "    def __len__(self):\n",
        "        return len(self.input_ids)\n",
        "\n",
        "    def __getitem__(self, idx):\n",
        "        return self.input_ids[idx], self.target_ids[idx]\n",
        "\n",
        "\n",
        "def create_dataloader_v1(txt, batch_size=4, max_length=256,\n",
        "                         stride=128, shuffle=True, drop_last=True, num_workers=0):\n",
        "    # Initialize the tokenizer\n",
        "    tokenizer = tiktoken.get_encoding(\"gpt2\")\n",
        "\n",
        "    # Create dataset\n",
        "    dataset = GPTDatasetV1(txt, tokenizer, max_length, stride)\n",
        "\n",
        "    # Create dataloader\n",
        "    dataloader = DataLoader(\n",
        "        dataset, batch_size=batch_size, shuffle=shuffle, drop_last=drop_last, num_workers=num_workers)\n",
        "\n",
        "    return dataloader\n",
        "\n",
        "\n",
        "class MultiHeadAttention(nn.Module):\n",
        "    def __init__(self, d_in, d_out, context_length, dropout, num_heads, qkv_bias=False):\n",
        "        super().__init__()\n",
        "        assert d_out % num_heads == 0, \"d_out must be divisible by n_heads\"\n",
        "\n",
        "        self.d_out = d_out\n",
        "        self.num_heads = num_heads\n",
        "        self.head_dim = d_out // num_heads  # Reduce the projection dim to match desired output dim\n",
        "\n",
        "        self.W_query = nn.Linear(d_in, d_out, bias=qkv_bias)\n",
        "        self.W_key = nn.Linear(d_in, d_out, bias=qkv_bias)\n",
        "        self.W_value = nn.Linear(d_in, d_out, bias=qkv_bias)\n",
        "        self.out_proj = nn.Linear(d_out, d_out)  # Linear layer to combine head outputs\n",
        "        self.dropout = nn.Dropout(dropout)\n",
        "        self.register_buffer('mask', torch.triu(torch.ones(context_length, context_length), diagonal=1))\n",
        "\n",
        "    def forward(self, x):\n",
        "        b, num_tokens, d_in = x.shape\n",
        "\n",
        "        keys = self.W_key(x)  # Shape: (b, num_tokens, d_out)\n",
        "        queries = self.W_query(x)\n",
        "        values = self.W_value(x)\n",
        "\n",
        "        # We implicitly split the matrix by adding a `num_heads` dimension\n",
        "        # Unroll last dim: (b, num_tokens, d_out) -> (b, num_tokens, num_heads, head_dim)\n",
        "        keys = keys.view(b, num_tokens, self.num_heads, self.head_dim)\n",
        "        values = values.view(b, num_tokens, self.num_heads, self.head_dim)\n",
        "        queries = queries.view(b, num_tokens, self.num_heads, self.head_dim)\n",
        "\n",
        "        # Transpose: (b, num_tokens, num_heads, head_dim) -> (b, num_heads, num_tokens, head_dim)\n",
        "        keys = keys.transpose(1, 2)\n",
        "        queries = queries.transpose(1, 2)\n",
        "        values = values.transpose(1, 2)\n",
        "\n",
        "        # Compute scaled dot-product attention (aka self-attention) with a causal mask\n",
        "        attn_scores = queries @ keys.transpose(2, 3)  # Dot product for each head\n",
        "\n",
        "        # Original mask truncated to the number of tokens and converted to boolean\n",
        "        mask_bool = self.mask.bool()[:num_tokens, :num_tokens]\n",
        "\n",
        "        # Use the mask to fill attention scores\n",
        "        attn_scores.masked_fill_(mask_bool, -torch.inf)\n",
        "\n",
        "        attn_weights = torch.softmax(attn_scores / keys.shape[-1]**0.5, dim=-1)\n",
        "        attn_weights = self.dropout(attn_weights)\n",
        "\n",
        "        # Shape: (b, num_tokens, num_heads, head_dim)\n",
        "        context_vec = (attn_weights @ values).transpose(1, 2)\n",
        "\n",
        "        # Combine heads, where self.d_out = self.num_heads * self.head_dim\n",
        "        context_vec = context_vec.reshape(b, num_tokens, self.d_out)\n",
        "        context_vec = self.out_proj(context_vec)  # optional projection\n",
        "\n",
        "        return context_vec\n",
        "\n",
        "\n",
        "class LayerNorm(nn.Module):\n",
        "    def __init__(self, emb_dim):\n",
        "        super().__init__()\n",
        "        self.eps = 1e-5\n",
        "        self.scale = nn.Parameter(torch.ones(emb_dim))\n",
        "        self.shift = nn.Parameter(torch.zeros(emb_dim))\n",
        "\n",
        "    def forward(self, x):\n",
        "        mean = x.mean(dim=-1, keepdim=True)\n",
        "        var = x.var(dim=-1, keepdim=True, unbiased=False)\n",
        "        norm_x = (x - mean) / torch.sqrt(var + self.eps)\n",
        "        return self.scale * norm_x + self.shift\n",
        "\n",
        "\n",
        "class GELU(nn.Module):\n",
        "    def __init__(self):\n",
        "        super().__init__()\n",
        "\n",
        "    def forward(self, x):\n",
        "        return 0.5 * x * (1 + torch.tanh(\n",
        "            torch.sqrt(torch.tensor(2.0 / torch.pi)) *\n",
        "            (x + 0.044715 * torch.pow(x, 3))\n",
        "        ))\n",
        "\n",
        "\n",
        "class FeedForward(nn.Module):\n",
        "    def __init__(self, cfg):\n",
        "        super().__init__()\n",
        "        self.layers = nn.Sequential(\n",
        "            nn.Linear(cfg[\"emb_dim\"], 4 * cfg[\"emb_dim\"]),\n",
        "            GELU(),\n",
        "            nn.Linear(4 * cfg[\"emb_dim\"], cfg[\"emb_dim\"]),\n",
        "        )\n",
        "\n",
        "    def forward(self, x):\n",
        "        return self.layers(x)\n",
        "\n",
        "\n",
        "class TransformerBlock(nn.Module):\n",
        "    def __init__(self, cfg):\n",
        "        super().__init__()\n",
        "        self.att = MultiHeadAttention(\n",
        "            d_in=cfg[\"emb_dim\"],\n",
        "            d_out=cfg[\"emb_dim\"],\n",
        "            context_length=cfg[\"context_length\"],\n",
        "            num_heads=cfg[\"n_heads\"],\n",
        "            dropout=cfg[\"drop_rate\"],\n",
        "            qkv_bias=cfg[\"qkv_bias\"])\n",
        "        self.ff = FeedForward(cfg)\n",
        "        self.norm1 = LayerNorm(cfg[\"emb_dim\"])\n",
        "        self.norm2 = LayerNorm(cfg[\"emb_dim\"])\n",
        "        self.drop_shortcut = nn.Dropout(cfg[\"drop_rate\"])\n",
        "\n",
        "    def forward(self, x):\n",
        "        # Shortcut connection for attention block\n",
        "        shortcut = x\n",
        "        x = self.norm1(x)\n",
        "        x = self.att(x)   # Shape [batch_size, num_tokens, emb_size]\n",
        "        x = self.drop_shortcut(x)\n",
        "        x = x + shortcut  # Add the original input back\n",
        "\n",
        "        # Shortcut connection for feed-forward block\n",
        "        shortcut = x\n",
        "        x = self.norm2(x)\n",
        "        x = self.ff(x)\n",
        "        x = self.drop_shortcut(x)\n",
        "        x = x + shortcut  # Add the original input back\n",
        "\n",
        "        return x\n",
        "\n",
        "\n",
        "class GPTModel(nn.Module):\n",
        "    def __init__(self, cfg):\n",
        "        super().__init__()\n",
        "        self.tok_emb = nn.Embedding(cfg[\"vocab_size\"], cfg[\"emb_dim\"])\n",
        "        self.pos_emb = nn.Embedding(cfg[\"context_length\"], cfg[\"emb_dim\"])\n",
        "        self.drop_emb = nn.Dropout(cfg[\"drop_rate\"])\n",
        "\n",
        "        self.trf_blocks = nn.Sequential(\n",
        "            *[TransformerBlock(cfg) for _ in range(cfg[\"n_layers\"])])\n",
        "\n",
        "        self.final_norm = LayerNorm(cfg[\"emb_dim\"])\n",
        "        self.out_head = nn.Linear(cfg[\"emb_dim\"], cfg[\"vocab_size\"], bias=False)\n",
        "\n",
        "    def forward(self, in_idx):\n",
        "        batch_size, seq_len = in_idx.shape\n",
        "        tok_embeds = self.tok_emb(in_idx)\n",
        "        pos_embeds = self.pos_emb(torch.arange(seq_len, device=in_idx.device))\n",
        "        x = tok_embeds + pos_embeds  # Shape [batch_size, num_tokens, emb_size]\n",
        "        x = self.drop_emb(x)\n",
        "        x = self.trf_blocks(x)\n",
        "        x = self.final_norm(x)\n",
        "        logits = self.out_head(x)\n",
        "        return logits\n",
        "\n",
        "\n",
        "def generate_text_simple(model, idx, max_new_tokens, context_size):\n",
        "    # idx is (B, T) array of indices in the current context\n",
        "    for _ in range(max_new_tokens):\n",
        "\n",
        "        # Crop current context if it exceeds the supported context size\n",
        "        # E.g., if LLM supports only 5 tokens, and the context size is 10\n",
        "        # then only the last 5 tokens are used as context\n",
        "        idx_cond = idx[:, -context_size:]\n",
        "\n",
        "        # Get the predictions\n",
        "        with torch.no_grad():\n",
        "            logits = model(idx_cond)\n",
        "\n",
        "        # Focus only on the last time step\n",
        "        # (batch, n_token, vocab_size) becomes (batch, vocab_size)\n",
        "        logits = logits[:, -1, :]\n",
        "\n",
        "        # Get the idx of the vocab entry with the highest logits value\n",
        "        idx_next = torch.argmax(logits, dim=-1, keepdim=True)  # (batch, 1)\n",
        "\n",
        "        # Append sampled index to the running sequence\n",
        "        idx = torch.cat((idx, idx_next), dim=1)  # (batch, n_tokens+1)\n",
        "\n",
        "    return idx\n",
        "\n",
        "def text_to_token_ids(text, tokenizer):\n",
        "    encoded = tokenizer.encode(text)\n",
        "    encoded_tensor = torch.tensor(encoded).unsqueeze(0)  # add batch dimension\n",
        "    return encoded_tensor\n",
        "\n",
        "\n",
        "def token_ids_to_text(token_ids, tokenizer):\n",
        "    flat = token_ids.squeeze(0)  # remove batch dimension\n",
        "    return tokenizer.decode(flat.tolist())\n",
        "\n",
        "\n",
        "def calc_loss_batch(input_batch, target_batch, model, device):\n",
        "    input_batch, target_batch = input_batch.to(device), target_batch.to(device)\n",
        "    logits = model(input_batch)\n",
        "    # loss = torch.nn.functional.cross_entropy(logits.view(-1, logits.size(-1)), target_batch.view(-1))\n",
        "    loss = torch.nn.functional.cross_entropy(logits.flatten(0, 1), target_batch.flatten())\n",
        "    return loss\n",
        "\n",
        "\n",
        "def calc_loss_loader(data_loader, model, device, num_batches=None):\n",
        "    total_loss = 0.\n",
        "    if len(data_loader) == 0:\n",
        "        return float(\"nan\")\n",
        "    elif num_batches is None:\n",
        "        num_batches = len(data_loader)\n",
        "    else:\n",
        "        num_batches = min(num_batches, len(data_loader))\n",
        "    for i, (input_batch, target_batch) in enumerate(data_loader):\n",
        "        if i < num_batches:\n",
        "            loss = calc_loss_batch(input_batch, target_batch, model, device)\n",
        "            total_loss += loss.item()\n",
        "        else:\n",
        "            break\n",
        "    return total_loss / num_batches\n",
        "\n",
        "\n",
        "def evaluate_model(model, train_loader, val_loader, device, eval_iter):\n",
        "    model.eval()\n",
        "    with torch.no_grad():\n",
        "        train_loss = calc_loss_loader(train_loader, model, device, num_batches=eval_iter)\n",
        "        val_loss = calc_loss_loader(val_loader, model, device, num_batches=eval_iter)\n",
        "    model.train()\n",
        "    return train_loss, val_loss\n",
        "\n",
        "\n",
        "def generate_and_print_sample(model, tokenizer, device, start_context):\n",
        "    model.eval()\n",
        "    context_size = model.pos_emb.weight.shape[0]\n",
        "    encoded = text_to_token_ids(start_context, tokenizer).to(device)\n",
        "    with torch.no_grad():\n",
        "        token_ids = generate_text_simple(\n",
        "            model=model, idx=encoded,\n",
        "            max_new_tokens=50, context_size=context_size\n",
        "        )\n",
        "        decoded_text = token_ids_to_text(token_ids, tokenizer)\n",
        "        print(decoded_text.replace(\"\\n\", \" \"))  # Compact print format\n",
        "    model.train()\n",
        "\n",
        "\n",
        "def train_model_simple(model, train_loader, val_loader, optimizer, device, num_epochs,\n",
        "                       eval_freq, eval_iter, start_context, tokenizer):\n",
        "    # Initialize lists to track losses and tokens seen\n",
        "    train_losses, val_losses, track_tokens_seen = [], [], []\n",
        "    tokens_seen = 0\n",
        "    global_step = -1\n",
        "\n",
        "    # Main training loop\n",
        "    peak_lr = optimizer.param_groups[0][\"lr\"]\n",
        "    min_lr = 0.1 * peak_lr\n",
        "    total_training_steps = len(train_loader) * num_epochs\n",
        "    warmup_steps = 0.1 * total_training_steps\n",
        "    print(f\"Total Training Steps  = {total_training_steps}\")\n",
        "    for epoch in range(num_epochs):\n",
        "        model.train()  # Set model to training mode\n",
        "        start = time.time()\n",
        "        for input_batch, target_batch in train_loader:\n",
        "            optimizer.zero_grad()  # Reset loss gradients from previous batch iteration\n",
        "            global_step += 1\n",
        "            if global_step < warmup_steps:\n",
        "                lr = peak_lr * (global_step+1)/warmup_steps\n",
        "            else:\n",
        "                progress = ((global_step - warmup_steps) /(total_training_steps - warmup_steps))\n",
        "                lr = min_lr + (peak_lr - min_lr) * 0.5 * (1 + math.cos(math.pi * progress))\n",
        "            loss = calc_loss_batch(input_batch, target_batch, model, device)\n",
        "            loss.backward()  # Calculate loss gradients\n",
        "\n",
        "            if global_step > warmup_steps:\n",
        "                  torch.nn.utils.clip_grad_norm_(model.parameters(), max_norm=1.0)\n",
        "\n",
        "            optimizer.step()  # Update model weights using loss gradients\n",
        "            tokens_seen += input_batch.numel()\n",
        "\n",
        "\n",
        "            # Optional evaluation step\n",
        "            if global_step % eval_freq == 0:\n",
        "                train_loss, val_loss = evaluate_model(\n",
        "                    model, train_loader, val_loader, device, eval_iter)\n",
        "                train_losses.append(train_loss)\n",
        "                val_losses.append(val_loss)\n",
        "                track_tokens_seen.append(tokens_seen)\n",
        "                # print(f\"Time Taken = {time.time()-start}\")\n",
        "                # start = time.time()\n",
        "                print(f\"Ep {epoch+1} (Step {global_step:06d}): \"\n",
        "                      f\"Train loss {train_loss:.3f}, Val loss {val_loss:.3f}\")\n",
        "\n",
        "\n",
        "        end = time.time()\n",
        "        print(f\"Total Epoch Time : {end-start}\")\n",
        "\n",
        "        # Print a sample text after each epoch\n",
        "        generate_and_print_sample(\n",
        "            model, tokenizer, device, start_context\n",
        "        )\n",
        "\n",
        "    return train_losses, val_losses, track_tokens_seen\n",
        "\n",
        "\n",
        "def plot_losses(epochs_seen, tokens_seen, train_losses, val_losses):\n",
        "    fig, ax1 = plt.subplots()\n",
        "\n",
        "    # Plot training and validation loss against epochs\n",
        "    ax1.plot(epochs_seen, train_losses, label=\"Training loss\")\n",
        "    ax1.plot(epochs_seen, val_losses, linestyle=\"-.\", label=\"Validation loss\")\n",
        "    ax1.set_xlabel(\"Epochs\")\n",
        "    ax1.set_ylabel(\"Loss\")\n",
        "    ax1.legend(loc=\"upper right\")\n",
        "\n",
        "    # Create a second x-axis for tokens seen\n",
        "    ax2 = ax1.twiny()  # Create a second x-axis that shares the same y-axis\n",
        "    ax2.plot(tokens_seen, train_losses, alpha=0)  # Invisible plot for aligning ticks\n",
        "    ax2.set_xlabel(\"Tokens seen\")\n",
        "\n",
        "    fig.tight_layout()  # Adjust layout to make room\n",
        "    # plt.show()\n",
        "\n",
        "\n",
        "def main(gpt_config, settings):\n",
        "    torch.manual_seed(123)\n",
        "\n",
        "    ##############################\n",
        "    # Download data if necessary\n",
        "    ##############################\n",
        "\n",
        "    file_path = \"AllCombined.txt\"\n",
        "    # url = \"https://raw.githubusercontent.com/rasbt/LLMs-from-scratch/main/ch02/01_main-chapter-code/the-verdict.txt\"\n",
        "\n",
        "    # if not os.path.exists(file_path):\n",
        "    #     with urllib.request.urlopen(url) as response:\n",
        "    #         text_data = response.read().decode('utf-8')\n",
        "    #     with open(file_path, \"w\", encoding=\"utf-8\") as file:\n",
        "    #         file.write(text_data)\n",
        "    # else:\n",
        "    with open(file_path, \"r\", encoding=\"utf-8\") as file:\n",
        "          data = file.read()\n",
        "    text_data = data[:100000]\n",
        "    ##############################\n",
        "    # Initialize model\n",
        "    ##############################\n",
        "\n",
        "    model = GPTModel(gpt_config)\n",
        "    model.to(device)  # no assignment model = model.to(device) necessary for nn.Module classes\n",
        "    # model = torch.compile(model)\n",
        "    optimizer = torch.optim.AdamW(\n",
        "        model.parameters(), lr=settings[\"learning_rate\"], weight_decay=settings[\"weight_decay\"]\n",
        "    )\n",
        "\n",
        "    ##############################\n",
        "    # Set up dataloaders\n",
        "    ##############################\n",
        "\n",
        "    # Train/validation ratio\n",
        "    train_ratio = 0.90\n",
        "    split_idx = int(train_ratio * len(text_data))\n",
        "\n",
        "    train_loader = create_dataloader_v1(\n",
        "        text_data[:split_idx],\n",
        "        batch_size=settings[\"batch_size\"],\n",
        "        max_length=gpt_config[\"context_length\"],\n",
        "        stride=gpt_config[\"context_length\"],\n",
        "        drop_last=True,\n",
        "        shuffle=True,\n",
        "        num_workers=0\n",
        "    )\n",
        "\n",
        "    val_loader = create_dataloader_v1(\n",
        "        text_data[split_idx:],\n",
        "        batch_size=settings[\"batch_size\"],\n",
        "        max_length=gpt_config[\"context_length\"],\n",
        "        stride=gpt_config[\"context_length\"],\n",
        "        drop_last=False,\n",
        "        shuffle=False,\n",
        "        num_workers=0\n",
        "    )\n",
        "\n",
        "    ##############################\n",
        "    # Train model\n",
        "    ##############################\n",
        "\n",
        "    tokenizer = tiktoken.get_encoding(\"gpt2\")\n",
        "    start = time.time()\n",
        "    train_losses, val_losses, tokens_seen = train_model_simple(\n",
        "        model, train_loader, val_loader, optimizer, device,\n",
        "        num_epochs=settings[\"num_epochs\"], eval_freq=64, eval_iter=1,\n",
        "        start_context=\"Every effort moves you\", tokenizer=tokenizer\n",
        "    )\n",
        "    end = time.time()\n",
        "    print(f\"Total training time: {end - start:.2f} seconds\")\n",
        "    return train_losses, val_losses, tokens_seen, model\n",
        "\n",
        "\n",
        "if __name__ == \"__main__\":\n",
        "\n",
        "    GPT_CONFIG_124M = {\n",
        "        \"vocab_size\": 50264,    # Vocabulary size\n",
        "        \"context_length\": 256,  # Shortened context length (orig: 1024)\n",
        "        \"emb_dim\": 768,         # Embedding dimension\n",
        "        \"n_heads\": 16,          # Number of attention heads\n",
        "        \"n_layers\": 16,         # Number of layers\n",
        "        \"drop_rate\": 0.1,       # Dropout rate\n",
        "        \"qkv_bias\": False       # Query-key-value bias\n",
        "    }\n",
        "\n",
        "    OTHER_SETTINGS = {\n",
        "        \"learning_rate\": 3e-4,\n",
        "        \"num_epochs\": 20,\n",
        "        \"batch_size\": 16,\n",
        "        \"weight_decay\": 0.1\n",
        "    }\n",
        "\n",
        "    ###########################\n",
        "    # Initiate training\n",
        "    ###########################\n",
        "\n",
        "    train_losses, val_losses, tokens_seen, model = main(GPT_CONFIG_124M, OTHER_SETTINGS)\n",
        "\n",
        "    ###########################\n",
        "    # After training\n",
        "    ###########################\n",
        "\n",
        "    # Plot results\n",
        "    epochs_tensor = torch.linspace(0, OTHER_SETTINGS[\"num_epochs\"], len(train_losses))\n",
        "    plot_losses(epochs_tensor, tokens_seen, train_losses, val_losses)\n",
        "    plt.savefig(\"loss.pdf\")\n",
        "\n",
        "    # Save and load model\n",
        "    torch.save(model.state_dict(), \"model.pth\")\n",
        "    # model = GPTModel(GPT_CONFIG_124M)\n",
        "    # model.load_state_dict(torch.load(\"model.pth\"), weights_only=True)"
      ],
      "metadata": {
        "colab": {
          "base_uri": "https://localhost:8080/",
          "height": 1000
        },
        "id": "csPovBwXSEWH",
        "outputId": "7cdc099d-649a-4423-be4b-16120f093b33"
      },
      "execution_count": null,
      "outputs": [
        {
          "output_type": "stream",
          "name": "stdout",
          "text": [
            "Device = cuda\n",
            "Total Training Steps  = 80\n",
            "Ep 1 (Step 000000): Train loss 9.630, Val loss 9.914\n",
            "Total Epoch Time : 6.494552373886108\n",
            "Every effort moves you the the the the the the the the the the the the the the the the the the the the the the the the the the the the the the the the the the the, the, the the the the the, the the the the, the\n",
            "Total Epoch Time : 5.074737787246704\n",
            "Every effort moves you.                                                 \n",
            "Total Epoch Time : 5.256582021713257\n",
            "Every effort moves you.                                                 \n",
            "Total Epoch Time : 5.235011339187622\n",
            "Every effort moves you.                                                 \n",
            "Total Epoch Time : 5.261898756027222\n",
            "Every effort moves you.                                                 \n",
            "Total Epoch Time : 5.267335414886475\n",
            "Every effort moves you.                                                 \n",
            "Total Epoch Time : 5.208603620529175\n",
            "Every effort moves you.                                                 \n",
            "Total Epoch Time : 5.186679840087891\n",
            "Every effort moves you. The to the week as. The and the same day of the week as a good, and the week as the week as the same day of the week as the same day of the same day of the same day of the same day of the\n",
            "Total Epoch Time : 5.174892902374268\n",
            "Every effort moves you.                                                 \n",
            "Total Epoch Time : 5.144101142883301\n",
            "Every effort moves you.            The a is a is a of the same day of the same day of the same day of the same day of the same day of the same day of the same day of the same\n",
            "Total Epoch Time : 5.129746675491333\n",
            "Every effort moves you.                                                 \n",
            "Total Epoch Time : 5.124090194702148\n",
            "Every effort moves you.                                                 \n",
            "Total Epoch Time : 5.1228697299957275\n",
            "Every effort moves you.                                                 \n",
            "Total Epoch Time : 5.137959957122803\n",
            "Every effort moves you, and the week as the week as the same day of the same day of the week as of the week as the same day of the same day of the week as in the same day of the same day of the same day of the same day\n",
            "Total Epoch Time : 5.151328802108765\n",
            "Every effort moves you, the same day of the week as the same day of the same day of the week as the same day of the year, the same day of the week as the same day of the year, and the same day of the same day of the\n",
            "Total Epoch Time : 5.167006731033325\n",
            "Every effort moves you.                                                 \n",
            "Ep 17 (Step 000064): Train loss 3.382, Val loss 6.842\n",
            "Total Epoch Time : 5.893346071243286\n",
            "Every effort moves you and the same day of the week as January of the previous year, and in leap years, and in Australia.           The of the same day of the same day of the same day of the same\n",
            "Total Epoch Time : 5.181652069091797\n",
            "Every effort moves you and the same day of the week as January of the previous year, and in leap years, and in the same day of the same day of the same day of the same day of the same day of the week as February of the same day of\n",
            "Total Epoch Time : 5.182273864746094\n",
            "Every effort moves you has a few that they have a few of the world.                                     In\n",
            "Total Epoch Time : 5.189581871032715\n",
            "Every effort moves you, the same day of the week as January of the previous year, and in leap years, and in Australia.   The apple tree that the week as the week as the same day of the week as the same day of the week as\n",
            "Total training time: 133.38 seconds\n"
          ]
        },
        {
          "output_type": "display_data",
          "data": {
            "text/plain": [
              "<Figure size 640x480 with 2 Axes>"
            ],
            "image/png": "[encoded data removed]"
          },
          "metadata": {}
        }
      ]
    },
    {
      "cell_type": "markdown",
      "source": [
        "# Waste"
      ],
      "metadata": {
        "id": "hkS80spHGHr2"
      }
    },
    {
      "cell_type": "code",
      "source": [
        "# class myDataset(Dataset):\n",
        "#   def __init__(self,text,tokenizer,context_length,stride):\n",
        "#      self.input = []\n",
        "#      self.target = []\n",
        "#      tokens = tokenizer.encode(text)\n",
        "#      for i in range(0,len(tokens)-context_length,stride):\n",
        "#        input_sequence = tokens[i:i+context_length]\n",
        "#        target_sequence = tokens[i+1:i+context_length+1]\n",
        "#        self.input.append(input_sequence)\n",
        "#        self.target.append(target_sequence)\n",
        "\n",
        "#   def __len__(self):\n",
        "#     return len(self.input)\n",
        "#   def __getitem__(self,idx):\n",
        "#     return torch.tensor(self.input[idx]),torch.tensor(self.target[idx])\n",
        "\n",
        "# def create_dataloader(text, tokenizer, batch_size=4, context_length=256, stride=128, shuffle=True, drop_last=True, num_workers=0):\n",
        "#   if stride == 0 or stride > context_length:\n",
        "#      stride = context_length\n",
        "#   dataset = myDataset(text,tokenizer,context_length,stride)\n",
        "#   dataloader = DataLoader(dataset,batch_size=batch_size,shuffle=shuffle,drop_last=drop_last,num_workers=num_workers)\n",
        "#   return dataloader\n",
        "\n",
        "\n",
        "# class PositionalEncoding(nn.Module):\n",
        "#     def __init__(self, d_model, max_seq_length):\n",
        "#         super(PositionalEncoding, self).__init__()\n",
        "\n",
        "#         pe = torch.zeros(max_seq_length, d_model)\n",
        "#         position = torch.arange(0, max_seq_length, dtype=torch.float).unsqueeze(1)\n",
        "#         div_term = torch.exp(torch.arange(0, d_model, 2).float() * -(math.log(10000.0) / d_model))\n",
        "\n",
        "#         pe[:, 0::2] = torch.sin(position * div_term)\n",
        "#         pe[:, 1::2] = torch.cos(position * div_term)\n",
        "\n",
        "#         self.register_buffer('pe', pe.unsqueeze(0))\n",
        "\n",
        "#     def forward(self, x):\n",
        "#         return x + self.pe[:, :x.size(1)]\n",
        "\n",
        "\n",
        "# class MultiHeadAttention(nn.Module):\n",
        "#     def __init__(self, d_in, d_out, context_length, dropout, num_heads, qkv_bias=False):\n",
        "#         super().__init__()\n",
        "#         assert d_out % num_heads == 0, \"d_out must be divisible by n_heads\"\n",
        "\n",
        "#         self.d_out = d_out\n",
        "#         self.num_heads = num_heads\n",
        "#         self.head_dim = d_out // num_heads  # Reduce the projection dim to match desired output dim\n",
        "\n",
        "#         self.W_query = nn.Linear(d_in, d_out, bias=qkv_bias)\n",
        "#         self.W_key = nn.Linear(d_in, d_out, bias=qkv_bias)\n",
        "#         self.W_value = nn.Linear(d_in, d_out, bias=qkv_bias)\n",
        "#         self.out_proj = nn.Linear(d_out, d_out)  # Linear layer to combine head outputs\n",
        "#         self.dropout = nn.Dropout(dropout)\n",
        "#         self.register_buffer('mask', torch.triu(torch.ones(context_length, context_length), diagonal=1))\n",
        "\n",
        "#     def forward(self, x):\n",
        "#         b, num_tokens, d_in = x.shape\n",
        "\n",
        "#         keys = self.W_key(x)  # Shape: (b, num_tokens, d_out)\n",
        "#         queries = self.W_query(x)\n",
        "#         values = self.W_value(x)\n",
        "\n",
        "#         # We implicitly split the matrix by adding a `num_heads` dimension\n",
        "#         # Unroll last dim: (b, num_tokens, d_out) -> (b, num_tokens, num_heads, head_dim)\n",
        "#         keys = keys.view(b, num_tokens, self.num_heads, self.head_dim)\n",
        "#         values = values.view(b, num_tokens, self.num_heads, self.head_dim)\n",
        "#         queries = queries.view(b, num_tokens, self.num_heads, self.head_dim)\n",
        "\n",
        "#         # Transpose: (b, num_tokens, num_heads, head_dim) -> (b, num_heads, num_tokens, head_dim)\n",
        "#         keys = keys.transpose(1, 2)\n",
        "#         queries = queries.transpose(1, 2)\n",
        "#         values = values.transpose(1, 2)\n",
        "\n",
        "#         # Compute scaled dot-product attention (aka self-attention) with a causal mask\n",
        "#         attn_scores = queries @ keys.transpose(2, 3)  # Dot product for each head\n",
        "\n",
        "#         # Original mask truncated to the number of tokens and converted to boolean\n",
        "#         mask_bool = self.mask.bool()[:num_tokens, :num_tokens]\n",
        "\n",
        "#         # Use the mask to fill attention scores\n",
        "#         attn_scores.masked_fill_(mask_bool, -torch.inf)\n",
        "\n",
        "#         attn_weights = torch.softmax(attn_scores / keys.shape[-1]**0.5, dim=-1)\n",
        "#         attn_weights = self.dropout(attn_weights)\n",
        "\n",
        "#         # Shape: (b, num_tokens, num_heads, head_dim)\n",
        "#         context_vec = (attn_weights @ values).transpose(1, 2)\n",
        "\n",
        "#         # Combine heads, where self.d_out = self.num_heads * self.head_dim\n",
        "#         context_vec = context_vec.reshape(b, num_tokens, self.d_out)\n",
        "#         context_vec = self.out_proj(context_vec)  # optional projection\n",
        "\n",
        "#         return context_vec\n",
        "\n",
        "# class GELU(nn.Module):\n",
        "#   def __init__(self):\n",
        "#     super().__init__()\n",
        "#   def forward(self, x):\n",
        "#     return 0.5 * x * (1 + torch.tanh(torch.sqrt(torch.tensor(2.0 / torch.pi)) * (x + 0.044715 * torch.pow(x, 3))))\n",
        "\n",
        "# class FeedForward(nn.Module):\n",
        "#   def __init__(self, config):\n",
        "#       super().__init__()\n",
        "#       self.layers = nn.Sequential(\n",
        "#       nn.Linear(config[\"embedding_dim\"], 4 * config[\"embedding_dim\"]),\n",
        "#       GELU(),\n",
        "#       nn.Linear(4 * config[\"embedding_dim\"], config[\"embedding_dim\"]),\n",
        "#       )\n",
        "#   def forward(self, x):\n",
        "#     return self.layers(x)\n",
        "\n",
        "\n",
        "# class Decoder(nn.Module):\n",
        "#   def __init__(self,config):\n",
        "#     super().__init__()\n",
        "#     self.attention = MultiHeadAttention(\n",
        "#         din = config['embedding_dim'],\n",
        "#         dout = config['embedding_dim'],\n",
        "#         context_length = config['context_length'],\n",
        "#         n_heads = config['n_heads'] )\n",
        "#     self.forward = FeedForward(config)\n",
        "#     self.layernorm1 = nn.LayerNorm(config['embedding_dim'])\n",
        "#     self.layernorm2 = nn.LayerNorm(config['embedding_dim'])\n",
        "#     self.dropout = nn.Dropout(config['dropout'])\n",
        "\n",
        "#   def forward(self,x):\n",
        "#      resdiual_connection = x\n",
        "#      x = self.layernorm1(x)\n",
        "#      x = self.attention(x)\n",
        "#      x = self.dropout(x)\n",
        "#      x = x + resdiual_connection\n",
        "\n",
        "#      resdiual_connection = x\n",
        "#      x = self.layernorm2(x)\n",
        "#      x = self.forward(x)\n",
        "#      x = self.dropout(x)\n",
        "#      x = x + resdiual_connection\n",
        "#      return x\n",
        "\n",
        "\n",
        "# class SLM(nn.Module):\n",
        "#   def __init__(self,config):\n",
        "#     super().__init__()\n",
        "#     self.embedding = nn.Embedding(config['vocab_size'],config['embedding_dim'])\n",
        "#     self.position_embedding = PositionalEncoding(config['embedding_dim'],config['context_length'])\n",
        "#     self.emebedding_dropout = nn.Dropout(config['dropout'])\n",
        "#     self.decoder_blocks =  nn.Sequential(*[Decoder(config) for _ in range(config['n_layers'])])\n",
        "#     self.final_layernorm = nn.LayerNorm(config['embedding_dim'])\n",
        "#     self.output_layer = nn.Linear(config['embedding_dim'],config['vocab_size'],bias=False)\n",
        "\n",
        "#   def forward(self,x):\n",
        "#     x = self.embedding(x)\n",
        "#     x = self.position_embedding(x)\n",
        "#     x = self.emebedding_dropout(x)\n",
        "\n",
        "#     x = self.decoder_blocks(x)\n",
        "#     x = self.final_layernorm(x)\n",
        "\n",
        "#     logits = self.output_layer(x)\n",
        "#     return logits\n",
        "\n",
        "# def generate_text(model, idx, max_new_tokens, context_size, temperature=0.0, top_k=None, eos_id=None):\n",
        "\n",
        "#     # For-loop is the same as before: Get logits, and only focus on last time step\n",
        "#     for _ in range(max_new_tokens):\n",
        "#         idx_cond = idx[:, -context_size:]\n",
        "#         with torch.no_grad():\n",
        "#             logits = model(idx_cond)\n",
        "#         logits = logits[:, -1, :]\n",
        "\n",
        "#         # New: Filter logits with top_k sampling\n",
        "#         if top_k is not None:\n",
        "#             # Keep only top_k values\n",
        "#             top_logits, _ = torch.topk(logits, top_k)\n",
        "#             min_val = top_logits[:, -1]\n",
        "#             logits = torch.where(logits < min_val, torch.tensor(float(\"-inf\")).to(logits.device), logits)\n",
        "\n",
        "#         # New: Apply temperature scaling\n",
        "#         if temperature > 0.0:\n",
        "#             logits = logits / temperature\n",
        "\n",
        "#             # Apply softmax to get probabilities\n",
        "#             probs = torch.softmax(logits, dim=-1)  # (batch_size, context_len)\n",
        "\n",
        "#             # Sample from the distribution\n",
        "#             idx_next = torch.multinomial(probs, num_samples=1)  # (batch_size, 1)\n",
        "\n",
        "#         # Otherwise same as before: get idx of the vocab entry with the highest logits value\n",
        "#         else:\n",
        "#             idx_next = torch.argmax(logits, dim=-1, keepdim=True)  # (batch_size, 1)\n",
        "\n",
        "#         if idx_next == eos_id:  # Stop generating early if end-of-sequence token is encountered and eos_id is specified\n",
        "#             break\n",
        "\n",
        "#         # Same as before: append sampled index to the running sequence\n",
        "#         idx = torch.cat((idx, idx_next), dim=1)  # (batch_size, num_tokens+1)\n",
        "\n",
        "#     return idx\n",
        "\n",
        "\n",
        "# def text_to_token_ids(text, tokenizer):\n",
        "#     encoded = tokenizer.encode(text)\n",
        "#     encoded_tensor = torch.tensor(encoded).unsqueeze(0)  # add batch dimension\n",
        "#     return encoded_tensor\n",
        "\n",
        "# def token_ids_to_text(token_ids, tokenizer):\n",
        "#     flat = token_ids.squeeze(0)  # remove batch dimension\n",
        "#     return tokenizer.decode(flat.tolist())\n",
        "\n",
        "# def calc_loss_batch(input_batch, target_batch, model, device):\n",
        "#     input_batch, target_batch = input_batch.to(device), target_batch.to(device)\n",
        "#     logits = model(input_batch)\n",
        "#     loss = torch.nn.functional.cross_entropy(logits.flatten(0, 1), target_batch.flatten())\n",
        "#     return loss\n",
        "\n",
        "\n",
        "# def calc_loss_loader(data_loader, model, device, num_batches=None):\n",
        "#     total_loss = 0.\n",
        "#     if len(data_loader) == 0:\n",
        "#         return float(\"nan\")\n",
        "#     elif num_batches is None:\n",
        "#         num_batches = len(data_loader)\n",
        "#     else:\n",
        "#         num_batches = min(num_batches, len(data_loader))\n",
        "#     for i, (input_batch, target_batch) in enumerate(data_loader):\n",
        "#         if i < num_batches:\n",
        "#             loss = calc_loss_batch(input_batch, target_batch, model, device)\n",
        "#             total_loss += loss.item()\n",
        "#         else:\n",
        "#             break\n",
        "#     return total_loss / num_batches\n",
        "\n",
        "\n",
        "# def evaluate_model(model, train_loader, val_loader, device, eval_iter):\n",
        "#     model.eval()\n",
        "#     with torch.no_grad():\n",
        "#         train_loss = calc_loss_loader(train_loader, model, device, num_batches=eval_iter)\n",
        "#         val_loss = calc_loss_loader(val_loader, model, device, num_batches=eval_iter)\n",
        "#     model.train()\n",
        "#     return train_loss, val_loss\n",
        "\n",
        "\n",
        "# def generate_and_print_sample(model, tokenizer, device, start_context,context_size):\n",
        "#     model.eval()\n",
        "#     encoded = text_to_token_ids(start_context, tokenizer).to(device)\n",
        "#     with torch.no_grad():\n",
        "#         token_ids = generate_text(\n",
        "#             model=model, idx=encoded,\n",
        "#             max_new_tokens=50, context_size=context_size\n",
        "#         )\n",
        "#         decoded_text = token_ids_to_text(token_ids, tokenizer)\n",
        "#         print(decoded_text.replace(\"\\n\", \" \"))  # Compact print format\n",
        "#     model.train()\n",
        "\n",
        "\n",
        "# def train_model_simple(model, train_loader, val_loader, optimizer, device, num_epochs,\n",
        "#                        eval_freq, eval_iter, start_context, tokenizer,context_length):\n",
        "#     # Initialize lists to track losses and tokens seen\n",
        "#     train_losses, val_losses, track_tokens_seen = [], [], []\n",
        "#     tokens_seen = 0\n",
        "#     global_step = -1\n",
        "\n",
        "#     # Main training loop\n",
        "#     for epoch in range(num_epochs):\n",
        "#         model.train()  # Set model to training mode\n",
        "\n",
        "#         for input_batch, target_batch in train_loader:\n",
        "#             optimizer.zero_grad()  # Reset loss gradients from previous batch iteration\n",
        "#             loss = calc_loss_batch(input_batch, target_batch, model, device)\n",
        "#             loss.backward()  # Calculate loss gradients\n",
        "#             optimizer.step()  # Update model weights using loss gradients\n",
        "#             xm.optimizer_step(optimizer)\n",
        "#             tokens_seen += input_batch.numel()\n",
        "#             global_step += 1\n",
        "\n",
        "#             # Optional evaluation step\n",
        "#             if global_step % eval_freq == 0:\n",
        "#                 train_loss, val_loss = evaluate_model(\n",
        "#                     model, train_loader, val_loader, device, eval_iter)\n",
        "#                 train_losses.append(train_loss)\n",
        "#                 val_losses.append(val_loss)\n",
        "#                 track_tokens_seen.append(tokens_seen)\n",
        "#                 print(f\"Ep {epoch+1} (Step {global_step:06d}): \"\n",
        "#                       f\"Train loss {train_loss:.3f}, Val loss {val_loss:.3f}\")\n",
        "\n",
        "#         # Print a sample text after each epoch\n",
        "#         generate_and_print_sample(\n",
        "#             model, tokenizer, device, start_context,context_length\n",
        "#         )\n",
        "\n",
        "#     return train_losses, val_losses, track_tokens_seen\n",
        "\n",
        "\n",
        "# def plot_losses(epochs_seen, tokens_seen, train_losses, val_losses):\n",
        "#     fig, ax1 = plt.subplots()\n",
        "\n",
        "#     # Plot training and validation loss against epochs\n",
        "#     ax1.plot(epochs_seen, train_losses, label=\"Training loss\")\n",
        "#     ax1.plot(epochs_seen, val_losses, linestyle=\"-.\", label=\"Validation loss\")\n",
        "#     ax1.set_xlabel(\"Epochs\")\n",
        "#     ax1.set_ylabel(\"Loss\")\n",
        "#     ax1.legend(loc=\"upper right\")\n",
        "\n",
        "#     # Create a second x-axis for tokens seen\n",
        "#     ax2 = ax1.twiny()  # Create a second x-axis that shares the same y-axis\n",
        "#     ax2.plot(tokens_seen, train_losses, alpha=0)  # Invisible plot for aligning ticks\n",
        "#     ax2.set_xlabel(\"Tokens seen\")\n",
        "\n",
        "#     fig.tight_layout()  # Adjust layout to make room\n",
        "#     # plt.show()\n",
        "\n",
        "# def main(gpt_config, settings):\n",
        "\n",
        "#     torch.manual_seed(123)\n",
        "#     device = torch.device(\"cuda\" if torch.cuda.is_available() else \"cpu\")\n",
        "\n",
        "#     ###############################\n",
        "#     # Load Tokenizer\n",
        "#     ###############################\n",
        "\n",
        "#     tokenizer = tiktoken.get_encoding(\"gpt2\")\n",
        "\n",
        "\n",
        "#     ##############################\n",
        "#     # Download data if necessary\n",
        "#     ##############################\n",
        "\n",
        "#     file_path = \"the-verdict.txt\"\n",
        "#     url = \"https://raw.githubusercontent.com/rasbt/LLMs-from-scratch/main/ch02/01_main-chapter-code/the-verdict.txt\"\n",
        "\n",
        "#     if not os.path.exists(file_path):\n",
        "#         with urllib.request.urlopen(url) as response:\n",
        "#             text_data = response.read().decode('utf-8')\n",
        "#         with open(file_path, \"w\", encoding=\"utf-8\") as file:\n",
        "#             file.write(text_data)\n",
        "#     else:\n",
        "#         with open(file_path, \"r\", encoding=\"utf-8\") as file:\n",
        "#             text_data = file.read()\n",
        "\n",
        "#     ##############################\n",
        "#     # Initialize model\n",
        "#     ##############################\n",
        "\n",
        "#     model = SLM(gpt_config)\n",
        "#     model.to(device)  # no assignment model = model.to(device) necessary for nn.Module classes\n",
        "#     optimizer = torch.optim.AdamW(\n",
        "#         model.parameters(), lr=settings[\"learning_rate\"], weight_decay=settings[\"weight_decay\"]\n",
        "#     )\n",
        "\n",
        "#     ##############################\n",
        "#     # Set up dataloaders\n",
        "#     ##############################\n",
        "\n",
        "#     # Train/validation ratio\n",
        "#     train_ratio = 0.90\n",
        "#     split_idx = int(train_ratio * len(text_data))\n",
        "\n",
        "#     train_loader = create_dataloader(\n",
        "#         text_data[:split_idx],\n",
        "#         tokenizer = tokenizer,\n",
        "#         batch_size=settings[\"batch_size\"],\n",
        "#         context_length=gpt_config[\"context_length\"],\n",
        "#         stride=gpt_config[\"context_length\"],\n",
        "#         shuffle=True,\n",
        "#         drop_last=True,\n",
        "#         num_workers=0\n",
        "#     )\n",
        "\n",
        "#     val_loader = create_dataloader(\n",
        "#         text_data[split_idx:],\n",
        "#         tokenizer = tokenizer,\n",
        "#         batch_size=settings[\"batch_size\"],\n",
        "#         context_length=gpt_config[\"context_length\"],\n",
        "#         stride=gpt_config[\"context_length\"],\n",
        "#         shuffle=False,\n",
        "#         drop_last=False,\n",
        "#         num_workers=0\n",
        "#     )\n",
        "\n",
        "#     ##############################\n",
        "#     # Train model\n",
        "#     ##############################\n",
        "\n",
        "\n",
        "\n",
        "#     train_losses, val_losses, tokens_seen = train_model_simple(\n",
        "#         model, train_loader, val_loader, optimizer, device,\n",
        "#         num_epochs=settings[\"num_epochs\"], eval_freq=5, eval_iter=1,\n",
        "#         start_context=\"Every effort moves you\", tokenizer=tokenizer,context_length=gpt_config[\"context_length\"]\n",
        "#     )\n",
        "\n",
        "#     return train_losses, val_losses, tokens_seen, model\n",
        "\n",
        "\n",
        "# if __name__ == \"__main__\":\n",
        "\n",
        "#     GPT_CONFIG_124M = {\n",
        "#         \"vocab_size\": 50257,    # Vocabulary size\n",
        "#         \"context_length\": 256,  # Shortened context length (orig: 1024)\n",
        "#         \"embedding_dim\": 768,   # Embedding dimension\n",
        "#         \"n_heads\": 12,          # Number of attention heads\n",
        "#         \"n_layers\": 12,         # Number of layers\n",
        "#         \"dropout\": 0.1,         # Dropout rate\n",
        "#         \"qkv_bias\": False       # Query-key-value bias\n",
        "#     }\n",
        "\n",
        "#     OTHER_SETTINGS = {\n",
        "#         \"learning_rate\": 5e-4,\n",
        "#         \"num_epochs\": 10,\n",
        "#         \"batch_size\": 2,\n",
        "#         \"weight_decay\": 0.1\n",
        "#     }\n",
        "\n",
        "#     ###########################\n",
        "#     # Initiate training\n",
        "#     ###########################\n",
        "\n",
        "#     train_losses, val_losses, tokens_seen, model = main(GPT_CONFIG_124M, OTHER_SETTINGS)\n",
        "\n",
        "#     ###########################\n",
        "#     # After training\n",
        "#     ###########################\n",
        "\n",
        "#     # Plot results\n",
        "#     epochs_tensor = torch.linspace(0, OTHER_SETTINGS[\"num_epochs\"], len(train_losses))\n",
        "#     plot_losses(epochs_tensor, tokens_seen, train_losses, val_losses)\n",
        "#     plt.savefig(\"loss.pdf\")\n",
        "\n",
        "#     # Save and load model\n",
        "#     torch.save(model.state_dict(), \"model.pth\")\n",
        "#     model = SLM(GPT_CONFIG_124M)\n",
        "#     model.load_state_dict(torch.load(\"model.pth\"), weights_only=True)"
      ],
      "metadata": {
        "id": "uurV4bgmwEc1"
      },
      "execution_count": null,
      "outputs": []
    }
  ]
}